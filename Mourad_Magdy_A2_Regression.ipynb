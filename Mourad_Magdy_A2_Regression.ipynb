{
  "cells": [
    {
      "cell_type": "markdown",
      "id": "a78d8cc0",
      "metadata": {
        "id": "a78d8cc0"
      },
      "source": [
        "---\n",
        "# Cairo University Faculty of Engineering\n",
        "## Machine Learning\n",
        "## Assignment 2\n",
        "\n",
        "---"
      ]
    },
    {
      "cell_type": "markdown",
      "id": "90f7867a",
      "metadata": {
        "id": "90f7867a"
      },
      "source": [
        "Please write your full name here\n",
        "- **Name** : \"Mourad Magdy\""
      ]
    },
    {
      "cell_type": "markdown",
      "id": "1a8ebf53-520f-45ca-b9ae-29a3c45cc3c5",
      "metadata": {
        "id": "1a8ebf53-520f-45ca-b9ae-29a3c45cc3c5"
      },
      "source": [
        "## Part 1 Simulated Data"
      ]
    },
    {
      "cell_type": "code",
      "execution_count": null,
      "id": "4e43c7f6-6100-4915-80da-22c0e368a9ac",
      "metadata": {
        "id": "4e43c7f6-6100-4915-80da-22c0e368a9ac",
        "outputId": "f6d8996a-b2c7-4320-b3cc-de26256e31be",
        "tags": [],
        "colab": {
          "base_uri": "https://localhost:8080/",
          "height": 430
        }
      },
      "outputs": [
        {
          "output_type": "display_data",
          "data": {
            "text/plain": [
              "<Figure size 640x480 with 1 Axes>"
            ],
            "image/png": "[encoded data removed]"
          },
          "metadata": {}
        }
      ],
      "source": [
        "%matplotlib notebook\n",
        "%matplotlib inline\n",
        "\n",
        "import numpy as np\n",
        "import pandas as pd\n",
        "import matplotlib.pyplot as plt\n",
        "from sklearn.model_selection import train_test_split\n",
        "\n",
        "\n",
        "np.random.seed(0)\n",
        "n = 15\n",
        "x = np.linspace(0,10,n) + np.random.randn(n)/5\n",
        "y = np.sin(x)+x/6 + np.random.randn(n)/10\n",
        "\n",
        "\n",
        "X_train, X_test, y_train, y_test = train_test_split(x, y, random_state=0)\n",
        "\n",
        "\n",
        "plt.figure()\n",
        "plt.scatter(X_train, y_train, label='training data')\n",
        "plt.scatter(X_test, y_test, label='test data')\n",
        "plt.legend(loc=4);"
      ]
    },
    {
      "cell_type": "markdown",
      "id": "2e607277-9341-4224-ab08-1358bbbf0646",
      "metadata": {
        "id": "2e607277-9341-4224-ab08-1358bbbf0646"
      },
      "source": [
        "### Question 1.1\n",
        "- Write a function that fits a polynomial LinearRegression model on the training data X_train for degrees **1, 2, 3, 6, and 9**. (Use `PolynomialFeatures` in `sklearn.preprocessing` to create the polynomial features and then fit a linear regression model)\n",
        "- For each model, find 100 predicted values over the interval x = 0 to 10 (e.g. np.linspace(0,10,100)) and store this in a numpy array.\n",
        "- The first row of this array should correspond to the output from the model trained on degree 1, the second row degree 2, the third row degree 3, the fourth row degree 6, and the fifth row degree 9."
      ]
    },
    {
      "cell_type": "code",
      "execution_count": null,
      "id": "fb627030-cdbf-4ca3-8aae-d1299c13a8bf",
      "metadata": {
        "id": "fb627030-cdbf-4ca3-8aae-d1299c13a8bf"
      },
      "outputs": [],
      "source": [
        "def answer_one():\n",
        "    from sklearn.linear_model import LinearRegression\n",
        "    from sklearn.preprocessing import PolynomialFeatures\n",
        "    degrees=[1,2,3,6,9]\n",
        "    predictions=np.zeros((len(degrees),100))\n",
        "    for i,degree in enumerate(degrees):\n",
        "      polynomial_degree=PolynomialFeatures(degree=degree)\n",
        "      X_train_polynomial=polynomial_degree.fit_transform(X_train.reshape(-1,1))\n",
        "      X_test_polynomial=polynomial_degree.transform(np.linspace(0,10,100).reshape(-1,1))\n",
        "      linear_regression=LinearRegression().fit(X_train_polynomial,y_train)\n",
        "      predictions[i,:]=linear_regression.predict(X_test_polynomial)\n",
        "    return predictions # results"
      ]
    },
    {
      "cell_type": "code",
      "execution_count": null,
      "id": "1f6d7c24",
      "metadata": {
        "colab": {
          "base_uri": "https://localhost:8080/"
        },
        "id": "1f6d7c24",
        "outputId": "c1ee8ec2-b989-444b-dd9e-06e55ae0ce03"
      },
      "outputs": [
        {
          "output_type": "stream",
          "name": "stdout",
          "text": [
            "(5, 100)\n"
          ]
        }
      ],
      "source": [
        "results = answer_one()\n",
        "print(results.shape)"
      ]
    },
    {
      "cell_type": "code",
      "execution_count": null,
      "id": "7cac2e70",
      "metadata": {
        "colab": {
          "base_uri": "https://localhost:8080/"
        },
        "id": "7cac2e70",
        "outputId": "3f1aa4dd-bf13-4961-90e2-4c8c3c656a02"
      },
      "outputs": [
        {
          "output_type": "stream",
          "name": "stdout",
          "text": [
            "[[ 2.53040195e-01  2.69201547e-01  2.85362899e-01  3.01524251e-01\n",
            "   3.17685603e-01  3.33846955e-01  3.50008306e-01  3.66169658e-01\n",
            "   3.82331010e-01  3.98492362e-01  4.14653714e-01  4.30815066e-01\n",
            "   4.46976417e-01  4.63137769e-01  4.79299121e-01  4.95460473e-01\n",
            "   5.11621825e-01  5.27783177e-01  5.43944529e-01  5.60105880e-01\n",
            "   5.76267232e-01  5.92428584e-01  6.08589936e-01  6.24751288e-01\n",
            "   6.40912640e-01  6.57073992e-01  6.73235343e-01  6.89396695e-01\n",
            "   7.05558047e-01  7.21719399e-01  7.37880751e-01  7.54042103e-01\n",
            "   7.70203454e-01  7.86364806e-01  8.02526158e-01  8.18687510e-01\n",
            "   8.34848862e-01  8.51010214e-01  8.67171566e-01  8.83332917e-01\n",
            "   8.99494269e-01  9.15655621e-01  9.31816973e-01  9.47978325e-01\n",
            "   9.64139677e-01  9.80301028e-01  9.96462380e-01  1.01262373e+00\n",
            "   1.02878508e+00  1.04494644e+00  1.06110779e+00  1.07726914e+00\n",
            "   1.09343049e+00  1.10959184e+00  1.12575320e+00  1.14191455e+00\n",
            "   1.15807590e+00  1.17423725e+00  1.19039860e+00  1.20655995e+00\n",
            "   1.22272131e+00  1.23888266e+00  1.25504401e+00  1.27120536e+00\n",
            "   1.28736671e+00  1.30352807e+00  1.31968942e+00  1.33585077e+00\n",
            "   1.35201212e+00  1.36817347e+00  1.38433482e+00  1.40049618e+00\n",
            "   1.41665753e+00  1.43281888e+00  1.44898023e+00  1.46514158e+00\n",
            "   1.48130294e+00  1.49746429e+00  1.51362564e+00  1.52978699e+00\n",
            "   1.54594834e+00  1.56210969e+00  1.57827105e+00  1.59443240e+00\n",
            "   1.61059375e+00  1.62675510e+00  1.64291645e+00  1.65907781e+00\n",
            "   1.67523916e+00  1.69140051e+00  1.70756186e+00  1.72372321e+00\n",
            "   1.73988457e+00  1.75604592e+00  1.77220727e+00  1.78836862e+00\n",
            "   1.80452997e+00  1.82069132e+00  1.83685268e+00  1.85301403e+00]\n",
            " [ 5.38844184e-01  5.38465542e-01  5.38399013e-01  5.38644598e-01\n",
            "   5.39202297e-01  5.40072109e-01  5.41254034e-01  5.42748073e-01\n",
            "   5.44554226e-01  5.46672492e-01  5.49102871e-01  5.51845365e-01\n",
            "   5.54899971e-01  5.58266691e-01  5.61945525e-01  5.65936473e-01\n",
            "   5.70239533e-01  5.74854708e-01  5.79781996e-01  5.85021397e-01\n",
            "   5.90572912e-01  5.96436541e-01  6.02612283e-01  6.09100138e-01\n",
            "   6.15900107e-01  6.23012190e-01  6.30436386e-01  6.38172696e-01\n",
            "   6.46221119e-01  6.54581656e-01  6.63254307e-01  6.72239070e-01\n",
            "   6.81535948e-01  6.91144939e-01  7.01066043e-01  7.11299261e-01\n",
            "   7.21844593e-01  7.32702038e-01  7.43871597e-01  7.55353269e-01\n",
            "   7.67147055e-01  7.79252954e-01  7.91670967e-01  8.04401093e-01\n",
            "   8.17443333e-01  8.30797686e-01  8.44464153e-01  8.58442734e-01\n",
            "   8.72733428e-01  8.87336235e-01  9.02251156e-01  9.17478191e-01\n",
            "   9.33017339e-01  9.48868601e-01  9.65031976e-01  9.81507465e-01\n",
            "   9.98295067e-01  1.01539478e+00  1.03280661e+00  1.05053056e+00\n",
            "   1.06856661e+00  1.08691478e+00  1.10557507e+00  1.12454746e+00\n",
            "   1.14383197e+00  1.16342860e+00  1.18333733e+00  1.20355819e+00\n",
            "   1.22409115e+00  1.24493623e+00  1.26609342e+00  1.28756273e+00\n",
            "   1.30934414e+00  1.33143768e+00  1.35384332e+00  1.37656108e+00\n",
            "   1.39959096e+00  1.42293294e+00  1.44658704e+00  1.47055326e+00\n",
            "   1.49483158e+00  1.51942202e+00  1.54432458e+00  1.56953925e+00\n",
            "   1.59506603e+00  1.62090492e+00  1.64705593e+00  1.67351905e+00\n",
            "   1.70029429e+00  1.72738164e+00  1.75478110e+00  1.78249268e+00\n",
            "   1.81051637e+00  1.83885217e+00  1.86750009e+00  1.89646012e+00\n",
            "   1.92573226e+00  1.95531652e+00  1.98521289e+00  2.01542137e+00]\n",
            " [ 1.22989539e+00  1.15143628e+00  1.07722393e+00  1.00717881e+00\n",
            "   9.41221419e-01  8.79272234e-01  8.21251741e-01  7.67080426e-01\n",
            "   7.16678772e-01  6.69967266e-01  6.26866391e-01  5.87296632e-01\n",
            "   5.51178474e-01  5.18432402e-01  4.88978901e-01  4.62738455e-01\n",
            "   4.39631549e-01  4.19578668e-01  4.02500297e-01  3.88316920e-01\n",
            "   3.76949022e-01  3.68317088e-01  3.62341603e-01  3.58943051e-01\n",
            "   3.58041918e-01  3.59558687e-01  3.63413845e-01  3.69527874e-01\n",
            "   3.77821261e-01  3.88214491e-01  4.00628046e-01  4.14982414e-01\n",
            "   4.31198078e-01  4.49195522e-01  4.68895233e-01  4.90217694e-01\n",
            "   5.13083391e-01  5.37412808e-01  5.63126429e-01  5.90144741e-01\n",
            "   6.18388226e-01  6.47777371e-01  6.78232660e-01  7.09674578e-01\n",
            "   7.42023609e-01  7.75200238e-01  8.09124950e-01  8.43718230e-01\n",
            "   8.78900563e-01  9.14592432e-01  9.50714324e-01  9.87186723e-01\n",
            "   1.02393011e+00  1.06086498e+00  1.09791181e+00  1.13499108e+00\n",
            "   1.17202328e+00  1.20892890e+00  1.24562842e+00  1.28204233e+00\n",
            "   1.31809110e+00  1.35369523e+00  1.38877520e+00  1.42325149e+00\n",
            "   1.45704459e+00  1.49007498e+00  1.52226316e+00  1.55352959e+00\n",
            "   1.58379478e+00  1.61297919e+00  1.64100332e+00  1.66778766e+00\n",
            "   1.69325268e+00  1.71731887e+00  1.73990672e+00  1.76093671e+00\n",
            "   1.78032933e+00  1.79800506e+00  1.81388438e+00  1.82788778e+00\n",
            "   1.83993575e+00  1.84994877e+00  1.85784732e+00  1.86355189e+00\n",
            "   1.86698296e+00  1.86806103e+00  1.86670656e+00  1.86284006e+00\n",
            "   1.85638200e+00  1.84725286e+00  1.83537314e+00  1.82066332e+00\n",
            "   1.80304388e+00  1.78243530e+00  1.75875808e+00  1.73193269e+00\n",
            "   1.70187963e+00  1.66851936e+00  1.63177240e+00  1.59155920e+00]\n",
            " [-1.99554310e-01 -3.95192724e-03  1.79851752e-01  3.51005136e-01\n",
            "   5.08831706e-01  6.52819233e-01  7.82609240e-01  8.97986721e-01\n",
            "   9.98870117e-01  1.08530155e+00  1.15743729e+00  1.21553852e+00\n",
            "   1.25996233e+00  1.29115292e+00  1.30963316e+00  1.31599632e+00\n",
            "   1.31089811e+00  1.29504889e+00  1.26920626e+00  1.23416782e+00\n",
            "   1.19076415e+00  1.13985218e+00  1.08230867e+00  1.01902405e+00\n",
            "   9.50896441e-01  8.78825970e-01  8.03709344e-01  7.26434655e-01\n",
            "   6.47876457e-01  5.68891088e-01  4.90312256e-01  4.12946874e-01\n",
            "   3.37571147e-01  2.64926923e-01  1.95718291e-01  1.30608438e-01\n",
            "   7.02167560e-02  1.51162118e-02 -3.41690366e-02 -7.71657636e-02\n",
            "  -1.13453547e-01 -1.42666382e-01 -1.64494044e-01 -1.78683194e-01\n",
            "  -1.85038228e-01 -1.83421873e-01 -1.73755533e-01 -1.56019368e-01\n",
            "  -1.30252132e-01 -9.65507462e-02 -5.50696232e-02 -6.01973198e-03\n",
            "   5.03325883e-02  1.13667071e-01  1.83611221e-01  2.59742264e-01\n",
            "   3.41589357e-01  4.28636046e-01  5.20322987e-01  6.16050916e-01\n",
            "   7.15183874e-01  8.17052690e-01  9.20958717e-01  1.02617782e+00\n",
            "   1.13196463e+00  1.23755703e+00  1.34218093e+00  1.44505526e+00\n",
            "   1.54539723e+00  1.64242789e+00  1.73537785e+00  1.82349336e+00\n",
            "   1.90604254e+00  1.98232198e+00  2.05166348e+00  2.11344114e+00\n",
            "   2.16707864e+00  2.21205680e+00  2.24792141e+00  2.27429129e+00\n",
            "   2.29086658e+00  2.29743739e+00  2.29389257e+00  2.28022881e+00\n",
            "   2.25656001e+00  2.22312684e+00  2.18030664e+00  2.12862347e+00\n",
            "   2.06875850e+00  2.00156065e+00  1.92805743e+00  1.84946605e+00\n",
            "   1.76720485e+00  1.68290491e+00  1.59842194e+00  1.51584842e+00\n",
            "   1.43752602e+00  1.36605824e+00  1.30432333e+00  1.25548743e+00]\n",
            " [ 6.79502291e+00  4.14319962e+00  2.23123327e+00  9.10495584e-01\n",
            "   5.49803842e-02 -4.41344405e-01 -6.66950391e-01 -6.94942835e-01\n",
            "  -5.85049561e-01 -3.85418365e-01 -1.34236013e-01  1.38818612e-01\n",
            "   4.11275255e-01  6.66715494e-01  8.93747513e-01  1.08510207e+00\n",
            "   1.23683984e+00  1.34766074e+00  1.41830638e+00  1.45104729e+00\n",
            "   1.44924700e+00  1.41699539e+00  1.35880449e+00  1.27935991e+00\n",
            "   1.18332187e+00  1.07517000e+00  9.59086463e-01  8.38872509e-01\n",
            "   7.17893710e-01  5.99049649e-01  4.84764103e-01  3.76992115e-01\n",
            "   2.77240652e-01  1.86599874e-01  1.05782325e-01  3.51676284e-02\n",
            "  -2.51494338e-02 -7.53093493e-02 -1.15638432e-01 -1.46600906e-01\n",
            "  -1.68753692e-01 -1.82704857e-01 -1.89076490e-01 -1.88472584e-01\n",
            "  -1.81452335e-01 -1.68509088e-01 -1.50055030e-01 -1.26411586e-01\n",
            "  -9.78053403e-02 -6.43692086e-02 -2.61484622e-02  1.68888606e-02\n",
            "   6.48377139e-02  1.17838592e-01  1.76057536e-01  2.39664311e-01\n",
            "   3.08809493e-01  3.83601236e-01  4.64082456e-01  5.50209219e-01\n",
            "   6.41831039e-01  7.38673816e-01  8.40326052e-01  9.46228969e-01\n",
            "   1.05567105e+00  1.16778746e+00  1.28156475e+00  1.39585105e+00\n",
            "   1.50937187e+00  1.62075169e+00  1.72854101e+00  1.83124866e+00\n",
            "   1.92737901e+00  2.01547334e+00  2.09415461e+00  2.16217467e+00\n",
            "   2.21846259e+00  2.26217275e+00  2.29273095e+00  2.30987669e+00\n",
            "   2.31369926e+00  2.30466539e+00  2.28363550e+00  2.25186568e+00\n",
            "   2.21099185e+00  2.16299262e+00  2.11012668e+00  2.05484037e+00\n",
            "   1.99964084e+00  1.94692951e+00  1.89879053e+00  1.85672828e+00\n",
            "   1.82134765e+00  1.79197039e+00  1.76618046e+00  1.73929077e+00\n",
            "   1.70372326e+00  1.64829388e+00  1.55739354e+00  1.41005537e+00]]\n"
          ]
        }
      ],
      "source": [
        "print(results)"
      ]
    },
    {
      "cell_type": "markdown",
      "id": "f5bc45ee-5103-45c1-9190-efb9be138834",
      "metadata": {
        "id": "f5bc45ee-5103-45c1-9190-efb9be138834"
      },
      "source": [
        "### Fitted model plot"
      ]
    },
    {
      "cell_type": "code",
      "execution_count": null,
      "id": "d2195f91-2cc3-40fe-846e-cc3fc5f43426",
      "metadata": {
        "id": "d2195f91-2cc3-40fe-846e-cc3fc5f43426",
        "colab": {
          "base_uri": "https://localhost:8080/",
          "height": 451
        },
        "outputId": "823bdc47-6e19-498a-df82-bde3f37210bc"
      },
      "outputs": [
        {
          "output_type": "display_data",
          "data": {
            "text/plain": [
              "<Figure size 1000x500 with 1 Axes>"
            ],
            "image/png": "[encoded data removed]"
          },
          "metadata": {}
        }
      ],
      "source": [
        "def plot_one(degree_predictions):\n",
        "    import matplotlib.pyplot as plt\n",
        "    plt.figure(figsize=(10,5))\n",
        "    plt.plot(X_train, y_train, 'o', label='training data', markersize=10)\n",
        "    plt.plot(X_test, y_test, 'o', label='test data', markersize=10)\n",
        "    for i,degree in enumerate([1,2,3,6,9]):\n",
        "        plt.plot(np.linspace(0,10,100), degree_predictions[i], alpha=0.8, lw=2, label='degree={}'.format(degree))\n",
        "    plt.ylim(-1,2.5)\n",
        "    plt.legend(loc=4)\n",
        "\n",
        "plot_one(answer_one())"
      ]
    },
    {
      "cell_type": "markdown",
      "id": "7e534f81-8e9c-48dd-b840-829166b32612",
      "metadata": {
        "id": "7e534f81-8e9c-48dd-b840-829166b32612"
      },
      "source": [
        "### Question 1.2\n",
        "Comment on the figure above in 2 lines in terms of fitting the data."
      ]
    },
    {
      "cell_type": "markdown",
      "id": "502109c9",
      "metadata": {
        "id": "502109c9"
      },
      "source": [
        "**ANSWER**"
      ]
    },
    {
      "cell_type": "markdown",
      "id": "4295f4f7",
      "metadata": {
        "id": "4295f4f7"
      },
      "source": [
        "As the number of degrees increase the more the  model overfits the data so it will not perform well on unseen data."
      ]
    },
    {
      "cell_type": "markdown",
      "id": "754f72d1-798c-46d3-9a36-4de0af874e92",
      "metadata": {
        "id": "754f72d1-798c-46d3-9a36-4de0af874e92"
      },
      "source": [
        "### Question 2\n",
        "- Write a function that fits a polynomial `LinearRegression` model on the training data `X_train` for degrees 0 through 9. For each model compute the $R^2$ regression score on the **training data** as well as the the **test data**, and return both of these arrays in a tuple.\n",
        "\n",
        "- *This function should return one tuple of numpy arrays `(r2_train, r2_test)`. Both arrays should have shape `(10,)`*"
      ]
    },
    {
      "cell_type": "code",
      "execution_count": null,
      "id": "7a317990-858a-4ed6-bc4c-7a2ce385746a",
      "metadata": {
        "id": "7a317990-858a-4ed6-bc4c-7a2ce385746a"
      },
      "outputs": [],
      "source": [
        "def answer_two():\n",
        "    from sklearn.linear_model import LinearRegression\n",
        "    from sklearn.preprocessing import PolynomialFeatures\n",
        "    from sklearn.metrics import r2_score\n",
        "    r2_train,r2_test=np.zeros(10),np.zeros(10)\n",
        "    for degree in range(10):\n",
        "      polynomial_degree=PolynomialFeatures(degree=degree)\n",
        "      X_train_polynomial=polynomial_degree.fit_transform(X_train.reshape(-1,1))\n",
        "      X_test_polynomial=polynomial_degree.transform(X_test.reshape(-1,1))\n",
        "\n",
        "      linear_regression=LinearRegression().fit(X_train_polynomial,y_train)\n",
        "      y_train_prediction=linear_regression.predict(X_train_polynomial)\n",
        "      y_test_prediction=linear_regression.predict(X_test_polynomial)\n",
        "\n",
        "      r2_train[degree]=r2_score(y_train,y_train_prediction)\n",
        "      r2_test[degree]=r2_score(y_test,y_test_prediction)\n",
        "\n",
        "    return (r2_train,r2_test)# answer here"
      ]
    },
    {
      "cell_type": "code",
      "execution_count": null,
      "id": "eb5ba14f",
      "metadata": {
        "colab": {
          "base_uri": "https://localhost:8080/"
        },
        "id": "eb5ba14f",
        "outputId": "681e3ce2-12eb-45f8-b31f-df6142a669d3"
      },
      "outputs": [
        {
          "output_type": "stream",
          "name": "stdout",
          "text": [
            "(10,) (10,)\n"
          ]
        }
      ],
      "source": [
        "results = answer_two()\n",
        "print(results[0].shape,results[1].shape)"
      ]
    },
    {
      "cell_type": "code",
      "execution_count": null,
      "id": "1b7642ec",
      "metadata": {
        "colab": {
          "base_uri": "https://localhost:8080/"
        },
        "id": "1b7642ec",
        "outputId": "75b10f2c-d316-4c7f-ebf5-ac9ba6c5caa8"
      },
      "outputs": [
        {
          "output_type": "stream",
          "name": "stdout",
          "text": [
            "(array([0.        , 0.42924578, 0.4510998 , 0.58719954, 0.91941945,\n",
            "       0.97578641, 0.99018233, 0.99352509, 0.99637545, 0.99803706]), array([-0.47808642, -0.45237104, -0.06856984,  0.00533105,  0.73004943,\n",
            "        0.87708301,  0.9214094 ,  0.92021504,  0.63247948, -0.64525365]))\n"
          ]
        }
      ],
      "source": [
        "print(results)"
      ]
    },
    {
      "cell_type": "markdown",
      "id": "62d15124-54d3-44d3-80cc-ec9efd7f18ec",
      "metadata": {
        "id": "62d15124-54d3-44d3-80cc-ec9efd7f18ec"
      },
      "source": [
        "### Question 3\n",
        "- Plot $R^2$ scores at degrees from 0 to 9 for both training and testing data on the same plot.\n",
        "\n",
        "- The plot must contain a legend and appropriate names for the axes."
      ]
    },
    {
      "cell_type": "code",
      "execution_count": null,
      "id": "d5fc0930",
      "metadata": {
        "colab": {
          "base_uri": "https://localhost:8080/",
          "height": 472
        },
        "id": "d5fc0930",
        "outputId": "289a12ee-f9cf-46ff-ebb8-e3fbbecba0be"
      },
      "outputs": [
        {
          "output_type": "display_data",
          "data": {
            "text/plain": [
              "<Figure size 640x480 with 1 Axes>"
            ],
            "image/png": "[encoded data removed]"
          },
          "metadata": {}
        }
      ],
      "source": [
        "degrees=[0,1,2,3,4,5,6,7,8,9]\n",
        "plt.plot(degrees,results[0],label='Training Data')\n",
        "plt.plot(degrees,results[1],label='Testing Data')\n",
        "plt.scatter(degrees, results[0], color='blue')\n",
        "plt.scatter(degrees, results[1], color='orange')\n",
        "plt.xlabel('Polynomial Degree')\n",
        "plt.ylabel('R2 Score')\n",
        "plt.title('R2 scores for polynomial regression')\n",
        "plt.xticks(degrees,degrees)\n",
        "plt.legend()\n",
        "plt.show()"
      ]
    },
    {
      "cell_type": "markdown",
      "id": "aa629bb4",
      "metadata": {
        "id": "aa629bb4"
      },
      "source": [
        "Based on the $R^2$ scores (degree levels 0 through 9), what degree level corresponds to a model that is **underfitting**? What degree level corresponds to a model that is **overfitting**? What choice of degree level would provide a model with **good generalization** performance on this dataset?"
      ]
    },
    {
      "cell_type": "markdown",
      "source": [],
      "metadata": {
        "id": "GZb7T11YKU8G"
      },
      "id": "GZb7T11YKU8G"
    },
    {
      "cell_type": "markdown",
      "id": "03e0f01d",
      "metadata": {
        "id": "03e0f01d"
      },
      "source": [
        "**ANSWER**\n",
        "- underfitting is indicated by low R2 scores for both training and testing data.\n",
        "\n",
        "- overfitting is indicated by high R2 score for training data but low R2 for testing data.\n",
        "\n",
        "- Good generalization is indicated by high R2 scores for both the training and testing data.\n",
        "\n",
        "- Degree levels from 4=>7 is able to generalize well.\n",
        "- overfitting =>  9 however the accuracy began to drop at 8\n",
        "\n",
        "- underfitting => from 0 to 4"
      ]
    },
    {
      "cell_type": "markdown",
      "id": "25f59680",
      "metadata": {
        "id": "25f59680"
      },
      "source": []
    },
    {
      "cell_type": "markdown",
      "id": "9639d156-3294-4eff-8042-2617d01aa163",
      "metadata": {
        "id": "9639d156-3294-4eff-8042-2617d01aa163"
      },
      "source": [
        "### Question 4\n",
        "\n",
        "- Training models on high degree polynomial features can result in overly complex models that overfit, so we often use regularized versions of the model to constrain model complexity, as we saw with Ridge and Lasso linear regression.\n",
        "\n",
        "- For this question, train three models: a non-regularized LinearRegression model (default parameters) and a regularized Lasso Regression model (with parameters `alpha=0.01`, `max_iter=10000`), and a regularized Ridge Regression model (with parameters `alpha=0.01`, `max_iter=10000`) both on polynomial features of degree 50.\n",
        "- Return the $R^2$ score for both the LinearRegression, Lasso, Ridge model's test sets.\n",
        "\n",
        "\n",
        "*This function should return one tuple `(LinearRegression_R2_test_score, Lasso_R2_test_score, Ridge_R2_test_score)`*"
      ]
    },
    {
      "cell_type": "code",
      "execution_count": null,
      "id": "955af3a4-c485-499b-999e-5db09dbfeb25",
      "metadata": {
        "id": "955af3a4-c485-499b-999e-5db09dbfeb25"
      },
      "outputs": [],
      "source": [
        "def answer_four():\n",
        "    from sklearn.preprocessing import PolynomialFeatures\n",
        "    from sklearn.linear_model import Lasso,Ridge, LinearRegression\n",
        "    from sklearn.metrics import r2_score\n",
        "    Polynomial_degree=PolynomialFeatures(degree=50)\n",
        "    X_train_polynomial=Polynomial_degree.fit_transform(X_train.reshape(-1,1))\n",
        "    X_test_polynomial=Polynomial_degree.transform(X_test.reshape(-1,1))\n",
        "\n",
        "    linear_regression=LinearRegression().fit(X_train_polynomial,y_train)\n",
        "    y_test_prediction=linear_regression.predict(X_test_polynomial)\n",
        "    LinearRegression_R2_test_score=r2_score(y_test,y_test_prediction)\n",
        "\n",
        "    lasso_regression=Lasso(alpha=0.01,max_iter=10000)\n",
        "    lasso_regression.fit(X_train_polynomial,y_train)\n",
        "    y_test_prediction=lasso_regression.predict(X_test_polynomial)\n",
        "    Lasso_R2_test_score=r2_score(y_test,y_test_prediction)\n",
        "\n",
        "    Ridge_regression=Ridge(alpha=0.01,max_iter=10000)\n",
        "    Ridge_regression.fit(X_train_polynomial,y_train)\n",
        "    y_test_prediction=Ridge_regression.predict(X_test_polynomial)\n",
        "    Ridge_R2_test_score=r2_score(y_test,y_test_prediction)\n",
        "\n",
        "\n",
        "    return (LinearRegression_R2_test_score, Lasso_R2_test_score, Ridge_R2_test_score) # results\n"
      ]
    },
    {
      "cell_type": "code",
      "execution_count": null,
      "id": "3fdd91cd",
      "metadata": {
        "colab": {
          "base_uri": "https://localhost:8080/"
        },
        "id": "3fdd91cd",
        "outputId": "1d740dac-9e1e-4f8e-c680-c050eb52a388"
      },
      "outputs": [
        {
          "output_type": "stream",
          "name": "stdout",
          "text": [
            "(0.006953559711665225, 0.8493908995296351, -0.08938086200465722)\n"
          ]
        },
        {
          "output_type": "stream",
          "name": "stderr",
          "text": [
            "/usr/local/lib/python3.10/dist-packages/sklearn/linear_model/_coordinate_descent.py:631: ConvergenceWarning: Objective did not converge. You might want to increase the number of iterations, check the scale of the features or consider increasing regularisation. Duality gap: 3.140e-01, tolerance: 6.895e-04\n",
            "  model = cd_fast.enet_coordinate_descent(\n",
            "/usr/local/lib/python3.10/dist-packages/sklearn/linear_model/_ridge.py:255: UserWarning: Singular matrix in solving dual problem. Using least-squares solution instead.\n",
            "  warnings.warn(\n"
          ]
        }
      ],
      "source": [
        "results = answer_four()\n",
        "print(results)"
      ]
    },
    {
      "cell_type": "markdown",
      "id": "78d295b2",
      "metadata": {
        "id": "78d295b2"
      },
      "source": [
        "**Comment on the results**\n",
        "- which is better?\n",
        "\n",
        "\n",
        "- what's the difference between the models in results and data fit?\n",
        "\n",
        "- how do the weight values differ between the models?\n",
        "\n"
      ]
    },
    {
      "cell_type": "markdown",
      "id": "763fe85a",
      "metadata": {
        "id": "763fe85a"
      },
      "source": [
        "**ANSWER**"
      ]
    },
    {
      "cell_type": "markdown",
      "id": "c936ebff",
      "metadata": {
        "id": "c936ebff"
      },
      "source": [
        "1) Lasso regression model performed the best with R2 score equal to 0.84(explaining 84.9% of the variance in the data)\n",
        "\n",
        " Linear regression model performed the worst with R2 score equal to 0.006\n",
        "\n",
        " Ridge regression performed bad with R2 score of -0.089 => the negative means that the model fits data worse than a horizontal line.\n",
        "\n",
        " 2)Lasso regression model performed better than the linear and ridge regression models, it has the best fit to the data\n",
        "\n",
        " Linear regression is not regularized like lasso and ridge regression so it is more prone to overfitting\n",
        "\n",
        " Ridge regression is regularized but doesnot shrink the irrelevant features to zero like the lasso regression so it has more accuracy than linear regression but less than lasso regression\n",
        "\n",
        " 3) lasso can shrink some features if they are irrelevant to zero which is good in training the model, it adds L1 penalty term\n",
        "\n",
        " Ridge shrinks some features close to zero but not zero , it add L2 penalty term\n",
        "\n",
        " Linear isn't regularized(doesnot have penalty term) so it can lead to large weight values which can result in overfitting"
      ]
    },
    {
      "cell_type": "markdown",
      "id": "670d7fc9-9c5a-4c69-84af-80f77afcd285",
      "metadata": {
        "id": "670d7fc9-9c5a-4c69-84af-80f77afcd285"
      },
      "source": [
        "### Question 5\n",
        "Write a function to calculate the total mean square error.\n",
        "$$\n",
        "MSE = E[ (ytrue  - yhat)^2 ]\n",
        "$$\n",
        "\n",
        "**Then compare your results with scikit-learn implementation of mean square error on the example provided below:**"
      ]
    },
    {
      "cell_type": "code",
      "execution_count": null,
      "id": "0a75daf6",
      "metadata": {
        "id": "0a75daf6"
      },
      "outputs": [],
      "source": [
        "y_true = [3, -0.5, 2, 7]\n",
        "y_pred = [2.5, 0.0, 2, 8]"
      ]
    },
    {
      "cell_type": "code",
      "execution_count": null,
      "id": "7533c60a-ddb7-4603-93be-0a5a6d528899",
      "metadata": {
        "id": "7533c60a-ddb7-4603-93be-0a5a6d528899"
      },
      "outputs": [],
      "source": [
        "def mse(y_true, y_pred):\n",
        "    ########### write code here #############\n",
        "    total_mse=[]\n",
        "    for i in range(len(y_true)):\n",
        "      total_mse.append((y_true[i]-y_pred[i])**2)\n",
        "    error=sum(total_mse)/len(y_true)\n",
        "    return error"
      ]
    },
    {
      "cell_type": "code",
      "execution_count": null,
      "id": "e6d97dbf",
      "metadata": {
        "id": "e6d97dbf",
        "colab": {
          "base_uri": "https://localhost:8080/"
        },
        "outputId": "60d886f3-ecde-4e2f-e766-01346c791b37"
      },
      "outputs": [
        {
          "output_type": "stream",
          "name": "stdout",
          "text": [
            "0.375 0.375\n"
          ]
        }
      ],
      "source": [
        "# comparison code\n",
        "from sklearn.metrics import mean_squared_error\n",
        "sklearn_mse=mean_squared_error(y_true,y_pred)\n",
        "result_mourad_implementation=mse(y_true,y_pred)\n",
        "print(result_mourad_implementation,sklearn_mse)\n",
        "# the results of my implementation and scikit learn are the same"
      ]
    },
    {
      "cell_type": "markdown",
      "id": "7edf7ed9-d215-4e80-be58-cc78711aa4cb",
      "metadata": {
        "id": "7edf7ed9-d215-4e80-be58-cc78711aa4cb"
      },
      "source": [
        "### Question 6\n",
        "Implement a linear regression class **FROM SCRATCH** that can be used by one of the following three options (according to user's choice):\n",
        "1. Ordinary Linear Regression Class\n",
        "2. Implement Ridge Regression Class\n",
        "3. Implement Lasso Regression Class\n",
        "\n",
        "- Can use numpy\n",
        "- Complete the missing code"
      ]
    },
    {
      "cell_type": "markdown",
      "id": "f4339193",
      "metadata": {
        "id": "f4339193"
      },
      "source": [
        "**Help**\n",
        "\n",
        "The gradient descent algorithm is:\n",
        "\n",
        "$$\\begin{align*}& \\text{repeat until convergence:} \\; \\lbrace \\newline \\; & \\phantom {0000} b := b -  \\alpha \\frac{\\partial J(w,b)}{\\partial b} \\newline       \\; & \\phantom {0000} w_k := w_k -  \\alpha \\frac{\\partial J(w,b)}{\\partial w_k} \\tag{1}  \\; &\n",
        "\\newline & \\rbrace\\end{align*}$$\n",
        "\n",
        "where, parameters $w, b$ are both updated simultaniously and where for **LINEAR REGRESSION**\n",
        "$$\n",
        "\\frac{\\partial J(w,b)}{\\partial b}  = \\frac{1}{n} \\sum\\limits_{i = 0}^{n-1} (f_{w,b}(x^{(i)}) - y^{(i)}) \\tag{2}\n",
        "$$\n",
        "$$\n",
        "\\frac{\\partial J(w,b)}{\\partial w_k}  = \\frac{1}{n} \\sum\\limits_{i = 0}^{n-1} (f_{w,b}(x^{(i)}) -y^{(i)})x^{(i)}_k \\tag{3}\n",
        "$$\n",
        "    \n",
        "*  $f_{w,b}(x^{(i)})$ is the model's prediction, while $y^{(i)}$, is the target value\n",
        "\n",
        "\n",
        "You will implement a function called `update_weights` which calculates $\\frac{\\partial J(w)}{\\partial w_k}$, $\\frac{\\partial J(w)}{\\partial b}$ for each type of regression --> different gradients for each type\n",
        "\n",
        "\n",
        "For example for **Linear Regression**, the `updat_weights` function should:\n",
        "\n",
        "* Iterate over the training examples, and for each example, compute:\n",
        "    * The prediction of the model for that example\n",
        "    $$\n",
        "    f_{wb}(x^{(i)}) =  \\sum_{k=1}^{k=m}w_kx^{(i)} + b\n",
        "    $$\n",
        "   \n",
        "    * Loop over features $k$ and calculate the gradient for each parameter $w_k$\n",
        "        $$\n",
        "        \\frac{\\partial J(w,b)}{\\partial w_k}^{(i)}  =  (f_{w,b}(x^{(i)}) -y^{(i)})x^{(i)}_k\n",
        "        $$\n",
        "    * Then for $b$ from that example\n",
        "        $$\n",
        "        \\frac{\\partial J(w,b)}{\\partial b}^{(i)}  =  (f_{w,b}(x^{(i)}) - y^{(i)})\n",
        "        $$\n",
        "\n",
        "* Calculate the total gradient update from all the examples for each parameter $w_k$ and $b$\n",
        "    $$\n",
        "    \\frac{\\partial J(w,b)}{\\partial b}  = \\frac{1}{n} \\sum\\limits_{i = 0}^{n-1} \\frac{\\partial J(w,b)}{\\partial b}^{(i)}\n",
        "    $$\n",
        "    \n",
        "    $$\n",
        "    \\frac{\\partial J(w,b)}{\\partial w_k}  = \\frac{1}{n} \\sum\\limits_{i = 0}^{n-1} \\frac{\\partial J(w,b)}{\\partial w_k}^{(i)}\n",
        "    $$\n",
        "  * Here, $n$ is the number of training examples and $\\sum$ is the summation operator\n",
        "\n",
        "* Then update weights"
      ]
    },
    {
      "cell_type": "code",
      "execution_count": null,
      "id": "42fe1d16-63ab-45b9-8c96-b08aa5509720",
      "metadata": {
        "id": "42fe1d16-63ab-45b9-8c96-b08aa5509720"
      },
      "outputs": [],
      "source": [
        "import numpy as np\n",
        "\n",
        "# Linear Regression\n",
        "\n",
        "class LinearRegression() :\n",
        "\n",
        "    def __init__( self, learning_rate, iterations, type=\"linear\" , reg_parameter = 0) :\n",
        "        \"\"\"\n",
        "        This function initializes the object instance with arguments learning_rate, number of iterations, and whether to use linear or ridge or lasso\n",
        "        reg_paramter is lambda for regularized regression\"\"\"\n",
        "\n",
        "        self.learning_rate =learning_rate\n",
        "\n",
        "        self.iterations =iterations\n",
        "\n",
        "        self.type = type\n",
        "\n",
        "        self.lam =reg_parameter\n",
        "\n",
        "    def fit( self, X, Y ) :\n",
        "        X=X.reshape(-1,1)\n",
        "        self.m, self.n =X.shape[0],X.shape[1]\n",
        "\n",
        "        # weight initialization, initialize w to random numbers from a uniform distribution over [0,1(\n",
        "        # self.W =np.random.rand(self.n)\n",
        "        self.W=np.random.uniform(0,1,self.n)\n",
        "        # intialize b to 0\n",
        "\n",
        "        self.b =0\n",
        "\n",
        "        self.X =X\n",
        "\n",
        "        self.Y =Y\n",
        "\n",
        "        # gradient descent learning\n",
        "\n",
        "        for i in range( self.iterations ) :\n",
        "\n",
        "            self.update_weights()\n",
        "\n",
        "        return self\n",
        "\n",
        "    def update_weights( self ) :\n",
        "\n",
        "        Y_pred = self.predict( self.X )\n",
        "\n",
        "        #calculate gradients\n",
        "        if self.type == 'linear':\n",
        "            dW =(1/self.m)*np.dot((Y_pred-self.Y),self.X)*2\n",
        "\n",
        "            db =(1/self.m)*np.sum(Y_pred-self.Y)*2\n",
        "\n",
        "        elif self.type == 'ridge':\n",
        "            dW =(1/self.m)*2*(np.dot((Y_pred-self.Y),self.X)+self.lam*self.W)\n",
        "\n",
        "            db =(1/self.m)*np.sum(Y_pred-self.Y)*2\n",
        "        else:\n",
        "            dW =(1/self.m)*(2*np.dot((Y_pred-self.Y),self.X)+self.lam*np.sign(self.W))\n",
        "\n",
        "            db =(1/self.m)*np.sum(Y_pred-self.Y)*2\n",
        "        # if self.type == 'linear':\n",
        "\n",
        "        #   dW = (np.dot((Y_pred-self.Y),self.X)*2)/len(self.Y)\n",
        "\n",
        "        #   db = (np.sum(Y_pred-self.Y)*2)/len(self.Y)\n",
        "\n",
        "        # elif self.type == 'ridge':\n",
        "        #     dW = (-2 * np.dot(self.X.T, (self.Y - Y_pred))  + 2 * self.lam * self.W)/self.m\n",
        "        #     db = -2 * np.sum(self.Y - Y_pred) / self.m\n",
        "\n",
        "        # else:\n",
        "        #     dW = -2 * np.dot(self.X.T, (self.Y - Y_pred)) / self.m + self.lam * np.sign(self.W)/self.m\n",
        "        #     db = -2 * np.sum(self.Y - Y_pred) / self.m\n",
        "\n",
        "        # update weights\n",
        "        self.W -=self.learning_rate*dW\n",
        "\n",
        "        self.b =self.learning_rate*db\n",
        "\n",
        "        # you don't need to return w and b\n",
        "        return self\n",
        "\n",
        "    def predict( self, X ) :\n",
        "        if self.type == 'linear':\n",
        "            y_pred =np.dot(X,self.W)+self.b\n",
        "        elif self.type == 'ridge':\n",
        "            y_pred =np.dot(X,self.W)+self.b\n",
        "\n",
        "        else:\n",
        "            y_pred =np.dot(X,self.W)+self.b\n",
        "        return y_pred"
      ]
    },
    {
      "cell_type": "markdown",
      "id": "546fec17",
      "metadata": {
        "id": "546fec17"
      },
      "source": [
        "- **Train your 3 models on the simulated train data provided at the beginning of the assignment**\n",
        "- use alpha = 0.01, learning_rate = 0.01, iterations, 500"
      ]
    },
    {
      "cell_type": "code",
      "execution_count": null,
      "id": "5d3d6880",
      "metadata": {
        "id": "5d3d6880",
        "colab": {
          "base_uri": "https://localhost:8080/"
        },
        "outputId": "51d534a2-3031-43b3-bb5d-98ec8f27591f"
      },
      "outputs": [
        {
          "output_type": "execute_result",
          "data": {
            "text/plain": [
              "<__main__.LinearRegression at 0x7823b25208e0>"
            ]
          },
          "metadata": {},
          "execution_count": 50
        }
      ],
      "source": [
        "# Your code here\n",
        "alpha=0.01\n",
        "learning_rate=0.01\n",
        "iterations=500\n",
        "linear_regression=LinearRegression(learning_rate,iterations)\n",
        "linear_regression.fit(X_train,y_train)\n",
        "\n",
        "ridge_regression=LinearRegression(learning_rate,iterations,'ridge',alpha)\n",
        "ridge_regression.fit(X_train,y_train)\n",
        "\n",
        "lasso_regression=LinearRegression(learning_rate,iterations,'lasso',alpha)\n",
        "lasso_regression.fit(X_train,y_train)"
      ]
    },
    {
      "cell_type": "markdown",
      "id": "6e03ff93",
      "metadata": {
        "id": "6e03ff93"
      },
      "source": [
        "- **Test your 3 models on the simulated test data provided at the beginning of the assignment**\n",
        "- **Print the MSE for each model**"
      ]
    },
    {
      "cell_type": "code",
      "execution_count": null,
      "id": "249907b7",
      "metadata": {
        "id": "249907b7",
        "colab": {
          "base_uri": "https://localhost:8080/"
        },
        "outputId": "7830c9e1-ac48-4e44-a8c4-58c61ce7ac58"
      },
      "outputs": [
        {
          "output_type": "stream",
          "name": "stdout",
          "text": [
            "0.6162757513565101 0.6162610304899387 0.6162379237900699\n"
          ]
        }
      ],
      "source": [
        "# Your code here\n",
        "y_predict_linear_regression=linear_regression.predict(X_test.reshape(-1,1))\n",
        "y_predict_ridge_regression=ridge_regression.predict(X_test.reshape(-1,1))\n",
        "y_predict_lasso_regression=lasso_regression.predict(X_test.reshape(-1,1))\n",
        "from sklearn.metrics import mean_squared_error\n",
        "mse_linear=mean_squared_error(y_test,y_predict_linear_regression)\n",
        "mse_ridge=mean_squared_error(y_test,y_predict_ridge_regression)\n",
        "mse_lasso=mean_squared_error(y_test,y_predict_lasso_regression)\n",
        "print(mse_linear,mse_ridge,mse_lasso)"
      ]
    },
    {
      "cell_type": "markdown",
      "id": "a6c2ba76",
      "metadata": {
        "id": "a6c2ba76"
      },
      "source": [
        "---\n",
        "# Part 2 - Diabetes Data\n",
        "\n",
        "For this assignment, you will be using the [Diabetes](https://scikit-learn.org/stable/datasets/toy_dataset.html#diabetes-dataset) dataset to create a regression model that can help diagnose patients' disease progression one year after baseline.\n",
        "\n",
        "\n",
        "## Question 1 (1 point)\n",
        "\n",
        "Load Diabetes Dataset from [scikit-learn](https://scikit-learn.org/stable/modules/generated/sklearn.datasets.load_diabetes.html#sklearn-datasets-load-diabetes)\n",
        "\n",
        "The following function MUST:\n",
        "1. Load diabetes dataset from scikit-learn as a scikit-learn bunch object which is similar to a dictionary\n",
        "    - Use `scaled= False`\n",
        "2. Convert the diabetes data to a pandas dataframe\n",
        "3. Return a pandas dataframe with:\n",
        "    - **CORRECT COLUMN NAMES** --> meaningful !!! i.e. NOT s1, s2, s3, ...\n",
        "    - target column should be named \"target\""
      ]
    },
    {
      "cell_type": "code",
      "execution_count": null,
      "id": "462c421a",
      "metadata": {
        "id": "462c421a"
      },
      "outputs": [],
      "source": [
        "def load_data():\n",
        "    \"\"\"\n",
        "    Return a pandas dataframe\n",
        "    \"\"\"\n",
        "    ### BEGIN SOLUTION\n",
        "    from sklearn.datasets import load_diabetes\n",
        "    diabetes_data=load_diabetes(as_frame=True,scaled=False)\n",
        "    df=diabetes_data.frame\n",
        "    df.columns=['age','sex','bmi','average blood pressure','total serum cholesterol','low-density lipoproteins','high-density lipoproteins','total cholesterol / HDL','possibly log of serum triglycerides level','blood sugar level','target']\n",
        "    return df\n",
        "\n",
        "\n",
        "    ### END SOLUTION"
      ]
    },
    {
      "cell_type": "code",
      "execution_count": null,
      "id": "e4f50e1e",
      "metadata": {
        "id": "e4f50e1e",
        "colab": {
          "base_uri": "https://localhost:8080/",
          "height": 223
        },
        "outputId": "b7a762d8-66e4-40ef-9079-049f3b252235"
      },
      "outputs": [
        {
          "output_type": "execute_result",
          "data": {
            "text/plain": [
              "    age  sex   bmi  average blood pressure  total serum cholesterol  \\\n",
              "0  59.0  2.0  32.1                   101.0                    157.0   \n",
              "1  48.0  1.0  21.6                    87.0                    183.0   \n",
              "2  72.0  2.0  30.5                    93.0                    156.0   \n",
              "3  24.0  1.0  25.3                    84.0                    198.0   \n",
              "4  50.0  1.0  23.0                   101.0                    192.0   \n",
              "\n",
              "   low-density lipoproteins  high-density lipoproteins  \\\n",
              "0                      93.2                       38.0   \n",
              "1                     103.2                       70.0   \n",
              "2                      93.6                       41.0   \n",
              "3                     131.4                       40.0   \n",
              "4                     125.4                       52.0   \n",
              "\n",
              "   total cholesterol / HDL  possibly log of serum triglycerides level  \\\n",
              "0                      4.0                                     4.8598   \n",
              "1                      3.0                                     3.8918   \n",
              "2                      4.0                                     4.6728   \n",
              "3                      5.0                                     4.8903   \n",
              "4                      4.0                                     4.2905   \n",
              "\n",
              "   blood sugar level  target  \n",
              "0               87.0   151.0  \n",
              "1               69.0    75.0  \n",
              "2               85.0   141.0  \n",
              "3               89.0   206.0  \n",
              "4               80.0   135.0  "
            ],
            "text/html": [
              "\n",
              "  <div id=\"df-bc557e5e-579e-4bf9-aca0-ec29a3148649\" class=\"colab-df-container\">\n",
              "    <div>\n",
              "<style scoped>\n",
              "    .dataframe tbody tr th:only-of-type {\n",
              "        vertical-align: middle;\n",
              "    }\n",
              "\n",
              "    .dataframe tbody tr th {\n",
              "        vertical-align: top;\n",
              "    }\n",
              "\n",
              "    .dataframe thead th {\n",
              "        text-align: right;\n",
              "    }\n",
              "</style>\n",
              "<table border=\"1\" class=\"dataframe\">\n",
              "  <thead>\n",
              "    <tr style=\"text-align: right;\">\n",
              "      <th></th>\n",
              "      <th>age</th>\n",
              "      <th>sex</th>\n",
              "      <th>bmi</th>\n",
              "      <th>average blood pressure</th>\n",
              "      <th>total serum cholesterol</th>\n",
              "      <th>low-density lipoproteins</th>\n",
              "      <th>high-density lipoproteins</th>\n",
              "      <th>total cholesterol / HDL</th>\n",
              "      <th>possibly log of serum triglycerides level</th>\n",
              "      <th>blood sugar level</th>\n",
              "      <th>target</th>\n",
              "    </tr>\n",
              "  </thead>\n",
              "  <tbody>\n",
              "    <tr>\n",
              "      <th>0</th>\n",
              "      <td>59.0</td>\n",
              "      <td>2.0</td>\n",
              "      <td>32.1</td>\n",
              "      <td>101.0</td>\n",
              "      <td>157.0</td>\n",
              "      <td>93.2</td>\n",
              "      <td>38.0</td>\n",
              "      <td>4.0</td>\n",
              "      <td>4.8598</td>\n",
              "      <td>87.0</td>\n",
              "      <td>151.0</td>\n",
              "    </tr>\n",
              "    <tr>\n",
              "      <th>1</th>\n",
              "      <td>48.0</td>\n",
              "      <td>1.0</td>\n",
              "      <td>21.6</td>\n",
              "      <td>87.0</td>\n",
              "      <td>183.0</td>\n",
              "      <td>103.2</td>\n",
              "      <td>70.0</td>\n",
              "      <td>3.0</td>\n",
              "      <td>3.8918</td>\n",
              "      <td>69.0</td>\n",
              "      <td>75.0</td>\n",
              "    </tr>\n",
              "    <tr>\n",
              "      <th>2</th>\n",
              "      <td>72.0</td>\n",
              "      <td>2.0</td>\n",
              "      <td>30.5</td>\n",
              "      <td>93.0</td>\n",
              "      <td>156.0</td>\n",
              "      <td>93.6</td>\n",
              "      <td>41.0</td>\n",
              "      <td>4.0</td>\n",
              "      <td>4.6728</td>\n",
              "      <td>85.0</td>\n",
              "      <td>141.0</td>\n",
              "    </tr>\n",
              "    <tr>\n",
              "      <th>3</th>\n",
              "      <td>24.0</td>\n",
              "      <td>1.0</td>\n",
              "      <td>25.3</td>\n",
              "      <td>84.0</td>\n",
              "      <td>198.0</td>\n",
              "      <td>131.4</td>\n",
              "      <td>40.0</td>\n",
              "      <td>5.0</td>\n",
              "      <td>4.8903</td>\n",
              "      <td>89.0</td>\n",
              "      <td>206.0</td>\n",
              "    </tr>\n",
              "    <tr>\n",
              "      <th>4</th>\n",
              "      <td>50.0</td>\n",
              "      <td>1.0</td>\n",
              "      <td>23.0</td>\n",
              "      <td>101.0</td>\n",
              "      <td>192.0</td>\n",
              "      <td>125.4</td>\n",
              "      <td>52.0</td>\n",
              "      <td>4.0</td>\n",
              "      <td>4.2905</td>\n",
              "      <td>80.0</td>\n",
              "      <td>135.0</td>\n",
              "    </tr>\n",
              "  </tbody>\n",
              "</table>\n",
              "</div>\n",
              "    <div class=\"colab-df-buttons\">\n",
              "\n",
              "  <div class=\"colab-df-container\">\n",
              "    <button class=\"colab-df-convert\" onclick=\"convertToInteractive('df-bc557e5e-579e-4bf9-aca0-ec29a3148649')\"\n",
              "            title=\"Convert this dataframe to an interactive table.\"\n",
              "            style=\"display:none;\">\n",
              "\n",
              "  <svg xmlns=\"http://www.w3.org/2000/svg\" height=\"24px\" viewBox=\"0 -960 960 960\">\n",
              "    <path d=\"M120-120v-720h720v720H120Zm60-500h600v-160H180v160Zm220 220h160v-160H400v160Zm0 220h160v-160H400v160ZM180-400h160v-160H180v160Zm440 0h160v-160H620v160ZM180-180h160v-160H180v160Zm440 0h160v-160H620v160Z\"/>\n",
              "  </svg>\n",
              "    </button>\n",
              "\n",
              "  <style>\n",
              "    .colab-df-container {\n",
              "      display:flex;\n",
              "      gap: 12px;\n",
              "    }\n",
              "\n",
              "    .colab-df-convert {\n",
              "      background-color: #E8F0FE;\n",
              "      border: none;\n",
              "      border-radius: 50%;\n",
              "      cursor: pointer;\n",
              "      display: none;\n",
              "      fill: #1967D2;\n",
              "      height: 32px;\n",
              "      padding: 0 0 0 0;\n",
              "      width: 32px;\n",
              "    }\n",
              "\n",
              "    .colab-df-convert:hover {\n",
              "      background-color: #E2EBFA;\n",
              "      box-shadow: 0px 1px 2px rgba(60, 64, 67, 0.3), 0px 1px 3px 1px rgba(60, 64, 67, 0.15);\n",
              "      fill: #174EA6;\n",
              "    }\n",
              "\n",
              "    .colab-df-buttons div {\n",
              "      margin-bottom: 4px;\n",
              "    }\n",
              "\n",
              "    [theme=dark] .colab-df-convert {\n",
              "      background-color: #3B4455;\n",
              "      fill: #D2E3FC;\n",
              "    }\n",
              "\n",
              "    [theme=dark] .colab-df-convert:hover {\n",
              "      background-color: #434B5C;\n",
              "      box-shadow: 0px 1px 3px 1px rgba(0, 0, 0, 0.15);\n",
              "      filter: drop-shadow(0px 1px 2px rgba(0, 0, 0, 0.3));\n",
              "      fill: #FFFFFF;\n",
              "    }\n",
              "  </style>\n",
              "\n",
              "    <script>\n",
              "      const buttonEl =\n",
              "        document.querySelector('#df-bc557e5e-579e-4bf9-aca0-ec29a3148649 button.colab-df-convert');\n",
              "      buttonEl.style.display =\n",
              "        google.colab.kernel.accessAllowed ? 'block' : 'none';\n",
              "\n",
              "      async function convertToInteractive(key) {\n",
              "        const element = document.querySelector('#df-bc557e5e-579e-4bf9-aca0-ec29a3148649');\n",
              "        const dataTable =\n",
              "          await google.colab.kernel.invokeFunction('convertToInteractive',\n",
              "                                                    [key], {});\n",
              "        if (!dataTable) return;\n",
              "\n",
              "        const docLinkHtml = 'Like what you see? Visit the ' +\n",
              "          '<a target=\"_blank\" href=https://colab.research.google.com/notebooks/data_table.ipynb>data table notebook</a>'\n",
              "          + ' to learn more about interactive tables.';\n",
              "        element.innerHTML = '';\n",
              "        dataTable['output_type'] = 'display_data';\n",
              "        await google.colab.output.renderOutput(dataTable, element);\n",
              "        const docLink = document.createElement('div');\n",
              "        docLink.innerHTML = docLinkHtml;\n",
              "        element.appendChild(docLink);\n",
              "      }\n",
              "    </script>\n",
              "  </div>\n",
              "\n",
              "\n",
              "<div id=\"df-ac699ca6-6c53-41e2-8fc1-f5b095afb9bf\">\n",
              "  <button class=\"colab-df-quickchart\" onclick=\"quickchart('df-ac699ca6-6c53-41e2-8fc1-f5b095afb9bf')\"\n",
              "            title=\"Suggest charts\"\n",
              "            style=\"display:none;\">\n",
              "\n",
              "<svg xmlns=\"http://www.w3.org/2000/svg\" height=\"24px\"viewBox=\"0 0 24 24\"\n",
              "     width=\"24px\">\n",
              "    <g>\n",
              "        <path d=\"M19 3H5c-1.1 0-2 .9-2 2v14c0 1.1.9 2 2 2h14c1.1 0 2-.9 2-2V5c0-1.1-.9-2-2-2zM9 17H7v-7h2v7zm4 0h-2V7h2v10zm4 0h-2v-4h2v4z\"/>\n",
              "    </g>\n",
              "</svg>\n",
              "  </button>\n",
              "\n",
              "<style>\n",
              "  .colab-df-quickchart {\n",
              "      --bg-color: #E8F0FE;\n",
              "      --fill-color: #1967D2;\n",
              "      --hover-bg-color: #E2EBFA;\n",
              "      --hover-fill-color: #174EA6;\n",
              "      --disabled-fill-color: #AAA;\n",
              "      --disabled-bg-color: #DDD;\n",
              "  }\n",
              "\n",
              "  [theme=dark] .colab-df-quickchart {\n",
              "      --bg-color: #3B4455;\n",
              "      --fill-color: #D2E3FC;\n",
              "      --hover-bg-color: #434B5C;\n",
              "      --hover-fill-color: #FFFFFF;\n",
              "      --disabled-bg-color: #3B4455;\n",
              "      --disabled-fill-color: #666;\n",
              "  }\n",
              "\n",
              "  .colab-df-quickchart {\n",
              "    background-color: var(--bg-color);\n",
              "    border: none;\n",
              "    border-radius: 50%;\n",
              "    cursor: pointer;\n",
              "    display: none;\n",
              "    fill: var(--fill-color);\n",
              "    height: 32px;\n",
              "    padding: 0;\n",
              "    width: 32px;\n",
              "  }\n",
              "\n",
              "  .colab-df-quickchart:hover {\n",
              "    background-color: var(--hover-bg-color);\n",
              "    box-shadow: 0 1px 2px rgba(60, 64, 67, 0.3), 0 1px 3px 1px rgba(60, 64, 67, 0.15);\n",
              "    fill: var(--button-hover-fill-color);\n",
              "  }\n",
              "\n",
              "  .colab-df-quickchart-complete:disabled,\n",
              "  .colab-df-quickchart-complete:disabled:hover {\n",
              "    background-color: var(--disabled-bg-color);\n",
              "    fill: var(--disabled-fill-color);\n",
              "    box-shadow: none;\n",
              "  }\n",
              "\n",
              "  .colab-df-spinner {\n",
              "    border: 2px solid var(--fill-color);\n",
              "    border-color: transparent;\n",
              "    border-bottom-color: var(--fill-color);\n",
              "    animation:\n",
              "      spin 1s steps(1) infinite;\n",
              "  }\n",
              "\n",
              "  @keyframes spin {\n",
              "    0% {\n",
              "      border-color: transparent;\n",
              "      border-bottom-color: var(--fill-color);\n",
              "      border-left-color: var(--fill-color);\n",
              "    }\n",
              "    20% {\n",
              "      border-color: transparent;\n",
              "      border-left-color: var(--fill-color);\n",
              "      border-top-color: var(--fill-color);\n",
              "    }\n",
              "    30% {\n",
              "      border-color: transparent;\n",
              "      border-left-color: var(--fill-color);\n",
              "      border-top-color: var(--fill-color);\n",
              "      border-right-color: var(--fill-color);\n",
              "    }\n",
              "    40% {\n",
              "      border-color: transparent;\n",
              "      border-right-color: var(--fill-color);\n",
              "      border-top-color: var(--fill-color);\n",
              "    }\n",
              "    60% {\n",
              "      border-color: transparent;\n",
              "      border-right-color: var(--fill-color);\n",
              "    }\n",
              "    80% {\n",
              "      border-color: transparent;\n",
              "      border-right-color: var(--fill-color);\n",
              "      border-bottom-color: var(--fill-color);\n",
              "    }\n",
              "    90% {\n",
              "      border-color: transparent;\n",
              "      border-bottom-color: var(--fill-color);\n",
              "    }\n",
              "  }\n",
              "</style>\n",
              "\n",
              "  <script>\n",
              "    async function quickchart(key) {\n",
              "      const quickchartButtonEl =\n",
              "        document.querySelector('#' + key + ' button');\n",
              "      quickchartButtonEl.disabled = true;  // To prevent multiple clicks.\n",
              "      quickchartButtonEl.classList.add('colab-df-spinner');\n",
              "      try {\n",
              "        const charts = await google.colab.kernel.invokeFunction(\n",
              "            'suggestCharts', [key], {});\n",
              "      } catch (error) {\n",
              "        console.error('Error during call to suggestCharts:', error);\n",
              "      }\n",
              "      quickchartButtonEl.classList.remove('colab-df-spinner');\n",
              "      quickchartButtonEl.classList.add('colab-df-quickchart-complete');\n",
              "    }\n",
              "    (() => {\n",
              "      let quickchartButtonEl =\n",
              "        document.querySelector('#df-ac699ca6-6c53-41e2-8fc1-f5b095afb9bf button');\n",
              "      quickchartButtonEl.style.display =\n",
              "        google.colab.kernel.accessAllowed ? 'block' : 'none';\n",
              "    })();\n",
              "  </script>\n",
              "</div>\n",
              "    </div>\n",
              "  </div>\n"
            ],
            "application/vnd.google.colaboratory.intrinsic+json": {
              "type": "dataframe",
              "variable_name": "df",
              "summary": "{\n  \"name\": \"df\",\n  \"rows\": 442,\n  \"fields\": [\n    {\n      \"column\": \"age\",\n      \"properties\": {\n        \"dtype\": \"number\",\n        \"std\": 13.109027822041092,\n        \"min\": 19.0,\n        \"max\": 79.0,\n        \"num_unique_values\": 58,\n        \"samples\": [\n          59.0,\n          23.0,\n          54.0\n        ],\n        \"semantic_type\": \"\",\n        \"description\": \"\"\n      }\n    },\n    {\n      \"column\": \"sex\",\n      \"properties\": {\n        \"dtype\": \"number\",\n        \"std\": 0.4995611704353544,\n        \"min\": 1.0,\n        \"max\": 2.0,\n        \"num_unique_values\": 2,\n        \"samples\": [\n          1.0,\n          2.0\n        ],\n        \"semantic_type\": \"\",\n        \"description\": \"\"\n      }\n    },\n    {\n      \"column\": \"bmi\",\n      \"properties\": {\n        \"dtype\": \"number\",\n        \"std\": 4.4181215606157735,\n        \"min\": 18.0,\n        \"max\": 42.2,\n        \"num_unique_values\": 163,\n        \"samples\": [\n          27.2,\n          21.3\n        ],\n        \"semantic_type\": \"\",\n        \"description\": \"\"\n      }\n    },\n    {\n      \"column\": \"average blood pressure\",\n      \"properties\": {\n        \"dtype\": \"number\",\n        \"std\": 13.831283419782999,\n        \"min\": 62.0,\n        \"max\": 133.0,\n        \"num_unique_values\": 100,\n        \"samples\": [\n          104.33,\n          102.0\n        ],\n        \"semantic_type\": \"\",\n        \"description\": \"\"\n      }\n    },\n    {\n      \"column\": \"total serum cholesterol\",\n      \"properties\": {\n        \"dtype\": \"number\",\n        \"std\": 34.60805167504306,\n        \"min\": 97.0,\n        \"max\": 301.0,\n        \"num_unique_values\": 141,\n        \"samples\": [\n          219.0,\n          250.0\n        ],\n        \"semantic_type\": \"\",\n        \"description\": \"\"\n      }\n    },\n    {\n      \"column\": \"low-density lipoproteins\",\n      \"properties\": {\n        \"dtype\": \"number\",\n        \"std\": 30.413080969276546,\n        \"min\": 41.6,\n        \"max\": 242.4,\n        \"num_unique_values\": 302,\n        \"samples\": [\n          162.8,\n          160.2\n        ],\n        \"semantic_type\": \"\",\n        \"description\": \"\"\n      }\n    },\n    {\n      \"column\": \"high-density lipoproteins\",\n      \"properties\": {\n        \"dtype\": \"number\",\n        \"std\": 12.934202154863327,\n        \"min\": 22.0,\n        \"max\": 99.0,\n        \"num_unique_values\": 63,\n        \"samples\": [\n          75.0,\n          93.0\n        ],\n        \"semantic_type\": \"\",\n        \"description\": \"\"\n      }\n    },\n    {\n      \"column\": \"total cholesterol / HDL\",\n      \"properties\": {\n        \"dtype\": \"number\",\n        \"std\": 1.2904498966082774,\n        \"min\": 2.0,\n        \"max\": 9.09,\n        \"num_unique_values\": 66,\n        \"samples\": [\n          6.42,\n          3.4\n        ],\n        \"semantic_type\": \"\",\n        \"description\": \"\"\n      }\n    },\n    {\n      \"column\": \"possibly log of serum triglycerides level\",\n      \"properties\": {\n        \"dtype\": \"number\",\n        \"std\": 0.5223905610694907,\n        \"min\": 3.2581,\n        \"max\": 6.107,\n        \"num_unique_values\": 184,\n        \"samples\": [\n          3.8501,\n          4.4067\n        ],\n        \"semantic_type\": \"\",\n        \"description\": \"\"\n      }\n    },\n    {\n      \"column\": \"blood sugar level\",\n      \"properties\": {\n        \"dtype\": \"number\",\n        \"std\": 11.496334739334172,\n        \"min\": 58.0,\n        \"max\": 124.0,\n        \"num_unique_values\": 56,\n        \"samples\": [\n          87.0,\n          68.0\n        ],\n        \"semantic_type\": \"\",\n        \"description\": \"\"\n      }\n    },\n    {\n      \"column\": \"target\",\n      \"properties\": {\n        \"dtype\": \"number\",\n        \"std\": 77.09300453299109,\n        \"min\": 25.0,\n        \"max\": 346.0,\n        \"num_unique_values\": 214,\n        \"samples\": [\n          310.0,\n          140.0\n        ],\n        \"semantic_type\": \"\",\n        \"description\": \"\"\n      }\n    }\n  ]\n}"
            }
          },
          "metadata": {},
          "execution_count": 53
        }
      ],
      "source": [
        "df = load_data()\n",
        "df.head()"
      ]
    },
    {
      "cell_type": "markdown",
      "id": "032966ae",
      "metadata": {
        "id": "032966ae"
      },
      "source": [
        "## Question 2\n",
        "\n",
        "### 2.1\n",
        "\n",
        "Print a data description of all columns of dataframe\n",
        "\n",
        "use `.describe()`"
      ]
    },
    {
      "cell_type": "code",
      "execution_count": null,
      "id": "96cadda0",
      "metadata": {
        "id": "96cadda0"
      },
      "outputs": [],
      "source": [
        "def range_columns(df):\n",
        "    \"\"\"\n",
        "    Function should return the drscription of dataframe\n",
        "    \"\"\"\n",
        "    ### BEGIN SOLUTION\n",
        "    return df.describe()\n",
        "    ### END SOLUTION"
      ]
    },
    {
      "cell_type": "code",
      "execution_count": null,
      "id": "35b8082d",
      "metadata": {
        "id": "35b8082d",
        "colab": {
          "base_uri": "https://localhost:8080/",
          "height": 335
        },
        "outputId": "3950ac5d-bc18-4ef3-cc88-8d090dbf596e"
      },
      "outputs": [
        {
          "output_type": "execute_result",
          "data": {
            "text/plain": [
              "              age         sex         bmi  average blood pressure  \\\n",
              "count  442.000000  442.000000  442.000000              442.000000   \n",
              "mean    48.518100    1.468326   26.375792               94.647014   \n",
              "std     13.109028    0.499561    4.418122               13.831283   \n",
              "min     19.000000    1.000000   18.000000               62.000000   \n",
              "25%     38.250000    1.000000   23.200000               84.000000   \n",
              "50%     50.000000    1.000000   25.700000               93.000000   \n",
              "75%     59.000000    2.000000   29.275000              105.000000   \n",
              "max     79.000000    2.000000   42.200000              133.000000   \n",
              "\n",
              "       total serum cholesterol  low-density lipoproteins  \\\n",
              "count               442.000000                442.000000   \n",
              "mean                189.140271                115.439140   \n",
              "std                  34.608052                 30.413081   \n",
              "min                  97.000000                 41.600000   \n",
              "25%                 164.250000                 96.050000   \n",
              "50%                 186.000000                113.000000   \n",
              "75%                 209.750000                134.500000   \n",
              "max                 301.000000                242.400000   \n",
              "\n",
              "       high-density lipoproteins  total cholesterol / HDL  \\\n",
              "count                 442.000000               442.000000   \n",
              "mean                   49.788462                 4.070249   \n",
              "std                    12.934202                 1.290450   \n",
              "min                    22.000000                 2.000000   \n",
              "25%                    40.250000                 3.000000   \n",
              "50%                    48.000000                 4.000000   \n",
              "75%                    57.750000                 5.000000   \n",
              "max                    99.000000                 9.090000   \n",
              "\n",
              "       possibly log of serum triglycerides level  blood sugar level  \\\n",
              "count                                 442.000000         442.000000   \n",
              "mean                                    4.641411          91.260181   \n",
              "std                                     0.522391          11.496335   \n",
              "min                                     3.258100          58.000000   \n",
              "25%                                     4.276700          83.250000   \n",
              "50%                                     4.620050          91.000000   \n",
              "75%                                     4.997200          98.000000   \n",
              "max                                     6.107000         124.000000   \n",
              "\n",
              "           target  \n",
              "count  442.000000  \n",
              "mean   152.133484  \n",
              "std     77.093005  \n",
              "min     25.000000  \n",
              "25%     87.000000  \n",
              "50%    140.500000  \n",
              "75%    211.500000  \n",
              "max    346.000000  "
            ],
            "text/html": [
              "\n",
              "  <div id=\"df-f7029f00-b300-4bcf-b813-62e1ab3f2216\" class=\"colab-df-container\">\n",
              "    <div>\n",
              "<style scoped>\n",
              "    .dataframe tbody tr th:only-of-type {\n",
              "        vertical-align: middle;\n",
              "    }\n",
              "\n",
              "    .dataframe tbody tr th {\n",
              "        vertical-align: top;\n",
              "    }\n",
              "\n",
              "    .dataframe thead th {\n",
              "        text-align: right;\n",
              "    }\n",
              "</style>\n",
              "<table border=\"1\" class=\"dataframe\">\n",
              "  <thead>\n",
              "    <tr style=\"text-align: right;\">\n",
              "      <th></th>\n",
              "      <th>age</th>\n",
              "      <th>sex</th>\n",
              "      <th>bmi</th>\n",
              "      <th>average blood pressure</th>\n",
              "      <th>total serum cholesterol</th>\n",
              "      <th>low-density lipoproteins</th>\n",
              "      <th>high-density lipoproteins</th>\n",
              "      <th>total cholesterol / HDL</th>\n",
              "      <th>possibly log of serum triglycerides level</th>\n",
              "      <th>blood sugar level</th>\n",
              "      <th>target</th>\n",
              "    </tr>\n",
              "  </thead>\n",
              "  <tbody>\n",
              "    <tr>\n",
              "      <th>count</th>\n",
              "      <td>442.000000</td>\n",
              "      <td>442.000000</td>\n",
              "      <td>442.000000</td>\n",
              "      <td>442.000000</td>\n",
              "      <td>442.000000</td>\n",
              "      <td>442.000000</td>\n",
              "      <td>442.000000</td>\n",
              "      <td>442.000000</td>\n",
              "      <td>442.000000</td>\n",
              "      <td>442.000000</td>\n",
              "      <td>442.000000</td>\n",
              "    </tr>\n",
              "    <tr>\n",
              "      <th>mean</th>\n",
              "      <td>48.518100</td>\n",
              "      <td>1.468326</td>\n",
              "      <td>26.375792</td>\n",
              "      <td>94.647014</td>\n",
              "      <td>189.140271</td>\n",
              "      <td>115.439140</td>\n",
              "      <td>49.788462</td>\n",
              "      <td>4.070249</td>\n",
              "      <td>4.641411</td>\n",
              "      <td>91.260181</td>\n",
              "      <td>152.133484</td>\n",
              "    </tr>\n",
              "    <tr>\n",
              "      <th>std</th>\n",
              "      <td>13.109028</td>\n",
              "      <td>0.499561</td>\n",
              "      <td>4.418122</td>\n",
              "      <td>13.831283</td>\n",
              "      <td>34.608052</td>\n",
              "      <td>30.413081</td>\n",
              "      <td>12.934202</td>\n",
              "      <td>1.290450</td>\n",
              "      <td>0.522391</td>\n",
              "      <td>11.496335</td>\n",
              "      <td>77.093005</td>\n",
              "    </tr>\n",
              "    <tr>\n",
              "      <th>min</th>\n",
              "      <td>19.000000</td>\n",
              "      <td>1.000000</td>\n",
              "      <td>18.000000</td>\n",
              "      <td>62.000000</td>\n",
              "      <td>97.000000</td>\n",
              "      <td>41.600000</td>\n",
              "      <td>22.000000</td>\n",
              "      <td>2.000000</td>\n",
              "      <td>3.258100</td>\n",
              "      <td>58.000000</td>\n",
              "      <td>25.000000</td>\n",
              "    </tr>\n",
              "    <tr>\n",
              "      <th>25%</th>\n",
              "      <td>38.250000</td>\n",
              "      <td>1.000000</td>\n",
              "      <td>23.200000</td>\n",
              "      <td>84.000000</td>\n",
              "      <td>164.250000</td>\n",
              "      <td>96.050000</td>\n",
              "      <td>40.250000</td>\n",
              "      <td>3.000000</td>\n",
              "      <td>4.276700</td>\n",
              "      <td>83.250000</td>\n",
              "      <td>87.000000</td>\n",
              "    </tr>\n",
              "    <tr>\n",
              "      <th>50%</th>\n",
              "      <td>50.000000</td>\n",
              "      <td>1.000000</td>\n",
              "      <td>25.700000</td>\n",
              "      <td>93.000000</td>\n",
              "      <td>186.000000</td>\n",
              "      <td>113.000000</td>\n",
              "      <td>48.000000</td>\n",
              "      <td>4.000000</td>\n",
              "      <td>4.620050</td>\n",
              "      <td>91.000000</td>\n",
              "      <td>140.500000</td>\n",
              "    </tr>\n",
              "    <tr>\n",
              "      <th>75%</th>\n",
              "      <td>59.000000</td>\n",
              "      <td>2.000000</td>\n",
              "      <td>29.275000</td>\n",
              "      <td>105.000000</td>\n",
              "      <td>209.750000</td>\n",
              "      <td>134.500000</td>\n",
              "      <td>57.750000</td>\n",
              "      <td>5.000000</td>\n",
              "      <td>4.997200</td>\n",
              "      <td>98.000000</td>\n",
              "      <td>211.500000</td>\n",
              "    </tr>\n",
              "    <tr>\n",
              "      <th>max</th>\n",
              "      <td>79.000000</td>\n",
              "      <td>2.000000</td>\n",
              "      <td>42.200000</td>\n",
              "      <td>133.000000</td>\n",
              "      <td>301.000000</td>\n",
              "      <td>242.400000</td>\n",
              "      <td>99.000000</td>\n",
              "      <td>9.090000</td>\n",
              "      <td>6.107000</td>\n",
              "      <td>124.000000</td>\n",
              "      <td>346.000000</td>\n",
              "    </tr>\n",
              "  </tbody>\n",
              "</table>\n",
              "</div>\n",
              "    <div class=\"colab-df-buttons\">\n",
              "\n",
              "  <div class=\"colab-df-container\">\n",
              "    <button class=\"colab-df-convert\" onclick=\"convertToInteractive('df-f7029f00-b300-4bcf-b813-62e1ab3f2216')\"\n",
              "            title=\"Convert this dataframe to an interactive table.\"\n",
              "            style=\"display:none;\">\n",
              "\n",
              "  <svg xmlns=\"http://www.w3.org/2000/svg\" height=\"24px\" viewBox=\"0 -960 960 960\">\n",
              "    <path d=\"M120-120v-720h720v720H120Zm60-500h600v-160H180v160Zm220 220h160v-160H400v160Zm0 220h160v-160H400v160ZM180-400h160v-160H180v160Zm440 0h160v-160H620v160ZM180-180h160v-160H180v160Zm440 0h160v-160H620v160Z\"/>\n",
              "  </svg>\n",
              "    </button>\n",
              "\n",
              "  <style>\n",
              "    .colab-df-container {\n",
              "      display:flex;\n",
              "      gap: 12px;\n",
              "    }\n",
              "\n",
              "    .colab-df-convert {\n",
              "      background-color: #E8F0FE;\n",
              "      border: none;\n",
              "      border-radius: 50%;\n",
              "      cursor: pointer;\n",
              "      display: none;\n",
              "      fill: #1967D2;\n",
              "      height: 32px;\n",
              "      padding: 0 0 0 0;\n",
              "      width: 32px;\n",
              "    }\n",
              "\n",
              "    .colab-df-convert:hover {\n",
              "      background-color: #E2EBFA;\n",
              "      box-shadow: 0px 1px 2px rgba(60, 64, 67, 0.3), 0px 1px 3px 1px rgba(60, 64, 67, 0.15);\n",
              "      fill: #174EA6;\n",
              "    }\n",
              "\n",
              "    .colab-df-buttons div {\n",
              "      margin-bottom: 4px;\n",
              "    }\n",
              "\n",
              "    [theme=dark] .colab-df-convert {\n",
              "      background-color: #3B4455;\n",
              "      fill: #D2E3FC;\n",
              "    }\n",
              "\n",
              "    [theme=dark] .colab-df-convert:hover {\n",
              "      background-color: #434B5C;\n",
              "      box-shadow: 0px 1px 3px 1px rgba(0, 0, 0, 0.15);\n",
              "      filter: drop-shadow(0px 1px 2px rgba(0, 0, 0, 0.3));\n",
              "      fill: #FFFFFF;\n",
              "    }\n",
              "  </style>\n",
              "\n",
              "    <script>\n",
              "      const buttonEl =\n",
              "        document.querySelector('#df-f7029f00-b300-4bcf-b813-62e1ab3f2216 button.colab-df-convert');\n",
              "      buttonEl.style.display =\n",
              "        google.colab.kernel.accessAllowed ? 'block' : 'none';\n",
              "\n",
              "      async function convertToInteractive(key) {\n",
              "        const element = document.querySelector('#df-f7029f00-b300-4bcf-b813-62e1ab3f2216');\n",
              "        const dataTable =\n",
              "          await google.colab.kernel.invokeFunction('convertToInteractive',\n",
              "                                                    [key], {});\n",
              "        if (!dataTable) return;\n",
              "\n",
              "        const docLinkHtml = 'Like what you see? Visit the ' +\n",
              "          '<a target=\"_blank\" href=https://colab.research.google.com/notebooks/data_table.ipynb>data table notebook</a>'\n",
              "          + ' to learn more about interactive tables.';\n",
              "        element.innerHTML = '';\n",
              "        dataTable['output_type'] = 'display_data';\n",
              "        await google.colab.output.renderOutput(dataTable, element);\n",
              "        const docLink = document.createElement('div');\n",
              "        docLink.innerHTML = docLinkHtml;\n",
              "        element.appendChild(docLink);\n",
              "      }\n",
              "    </script>\n",
              "  </div>\n",
              "\n",
              "\n",
              "<div id=\"df-d2b817ca-fa90-49d5-b1c5-f4a4886cc467\">\n",
              "  <button class=\"colab-df-quickchart\" onclick=\"quickchart('df-d2b817ca-fa90-49d5-b1c5-f4a4886cc467')\"\n",
              "            title=\"Suggest charts\"\n",
              "            style=\"display:none;\">\n",
              "\n",
              "<svg xmlns=\"http://www.w3.org/2000/svg\" height=\"24px\"viewBox=\"0 0 24 24\"\n",
              "     width=\"24px\">\n",
              "    <g>\n",
              "        <path d=\"M19 3H5c-1.1 0-2 .9-2 2v14c0 1.1.9 2 2 2h14c1.1 0 2-.9 2-2V5c0-1.1-.9-2-2-2zM9 17H7v-7h2v7zm4 0h-2V7h2v10zm4 0h-2v-4h2v4z\"/>\n",
              "    </g>\n",
              "</svg>\n",
              "  </button>\n",
              "\n",
              "<style>\n",
              "  .colab-df-quickchart {\n",
              "      --bg-color: #E8F0FE;\n",
              "      --fill-color: #1967D2;\n",
              "      --hover-bg-color: #E2EBFA;\n",
              "      --hover-fill-color: #174EA6;\n",
              "      --disabled-fill-color: #AAA;\n",
              "      --disabled-bg-color: #DDD;\n",
              "  }\n",
              "\n",
              "  [theme=dark] .colab-df-quickchart {\n",
              "      --bg-color: #3B4455;\n",
              "      --fill-color: #D2E3FC;\n",
              "      --hover-bg-color: #434B5C;\n",
              "      --hover-fill-color: #FFFFFF;\n",
              "      --disabled-bg-color: #3B4455;\n",
              "      --disabled-fill-color: #666;\n",
              "  }\n",
              "\n",
              "  .colab-df-quickchart {\n",
              "    background-color: var(--bg-color);\n",
              "    border: none;\n",
              "    border-radius: 50%;\n",
              "    cursor: pointer;\n",
              "    display: none;\n",
              "    fill: var(--fill-color);\n",
              "    height: 32px;\n",
              "    padding: 0;\n",
              "    width: 32px;\n",
              "  }\n",
              "\n",
              "  .colab-df-quickchart:hover {\n",
              "    background-color: var(--hover-bg-color);\n",
              "    box-shadow: 0 1px 2px rgba(60, 64, 67, 0.3), 0 1px 3px 1px rgba(60, 64, 67, 0.15);\n",
              "    fill: var(--button-hover-fill-color);\n",
              "  }\n",
              "\n",
              "  .colab-df-quickchart-complete:disabled,\n",
              "  .colab-df-quickchart-complete:disabled:hover {\n",
              "    background-color: var(--disabled-bg-color);\n",
              "    fill: var(--disabled-fill-color);\n",
              "    box-shadow: none;\n",
              "  }\n",
              "\n",
              "  .colab-df-spinner {\n",
              "    border: 2px solid var(--fill-color);\n",
              "    border-color: transparent;\n",
              "    border-bottom-color: var(--fill-color);\n",
              "    animation:\n",
              "      spin 1s steps(1) infinite;\n",
              "  }\n",
              "\n",
              "  @keyframes spin {\n",
              "    0% {\n",
              "      border-color: transparent;\n",
              "      border-bottom-color: var(--fill-color);\n",
              "      border-left-color: var(--fill-color);\n",
              "    }\n",
              "    20% {\n",
              "      border-color: transparent;\n",
              "      border-left-color: var(--fill-color);\n",
              "      border-top-color: var(--fill-color);\n",
              "    }\n",
              "    30% {\n",
              "      border-color: transparent;\n",
              "      border-left-color: var(--fill-color);\n",
              "      border-top-color: var(--fill-color);\n",
              "      border-right-color: var(--fill-color);\n",
              "    }\n",
              "    40% {\n",
              "      border-color: transparent;\n",
              "      border-right-color: var(--fill-color);\n",
              "      border-top-color: var(--fill-color);\n",
              "    }\n",
              "    60% {\n",
              "      border-color: transparent;\n",
              "      border-right-color: var(--fill-color);\n",
              "    }\n",
              "    80% {\n",
              "      border-color: transparent;\n",
              "      border-right-color: var(--fill-color);\n",
              "      border-bottom-color: var(--fill-color);\n",
              "    }\n",
              "    90% {\n",
              "      border-color: transparent;\n",
              "      border-bottom-color: var(--fill-color);\n",
              "    }\n",
              "  }\n",
              "</style>\n",
              "\n",
              "  <script>\n",
              "    async function quickchart(key) {\n",
              "      const quickchartButtonEl =\n",
              "        document.querySelector('#' + key + ' button');\n",
              "      quickchartButtonEl.disabled = true;  // To prevent multiple clicks.\n",
              "      quickchartButtonEl.classList.add('colab-df-spinner');\n",
              "      try {\n",
              "        const charts = await google.colab.kernel.invokeFunction(\n",
              "            'suggestCharts', [key], {});\n",
              "      } catch (error) {\n",
              "        console.error('Error during call to suggestCharts:', error);\n",
              "      }\n",
              "      quickchartButtonEl.classList.remove('colab-df-spinner');\n",
              "      quickchartButtonEl.classList.add('colab-df-quickchart-complete');\n",
              "    }\n",
              "    (() => {\n",
              "      let quickchartButtonEl =\n",
              "        document.querySelector('#df-d2b817ca-fa90-49d5-b1c5-f4a4886cc467 button');\n",
              "      quickchartButtonEl.style.display =\n",
              "        google.colab.kernel.accessAllowed ? 'block' : 'none';\n",
              "    })();\n",
              "  </script>\n",
              "</div>\n",
              "    </div>\n",
              "  </div>\n"
            ],
            "application/vnd.google.colaboratory.intrinsic+json": {
              "type": "dataframe",
              "summary": "{\n  \"name\": \"range_columns(df)\",\n  \"rows\": 8,\n  \"fields\": [\n    {\n      \"column\": \"age\",\n      \"properties\": {\n        \"dtype\": \"number\",\n        \"std\": 142.3445498514995,\n        \"min\": 13.109027822041092,\n        \"max\": 442.0,\n        \"num_unique_values\": 8,\n        \"samples\": [\n          48.51809954751131,\n          50.0,\n          442.0\n        ],\n        \"semantic_type\": \"\",\n        \"description\": \"\"\n      }\n    },\n    {\n      \"column\": \"sex\",\n      \"properties\": {\n        \"dtype\": \"number\",\n        \"std\": 155.81853051275928,\n        \"min\": 0.4995611704353544,\n        \"max\": 442.0,\n        \"num_unique_values\": 5,\n        \"samples\": [\n          1.4683257918552035,\n          2.0,\n          0.4995611704353544\n        ],\n        \"semantic_type\": \"\",\n        \"description\": \"\"\n      }\n    },\n    {\n      \"column\": \"bmi\",\n      \"properties\": {\n        \"dtype\": \"number\",\n        \"std\": 148.10655803382107,\n        \"min\": 4.4181215606157735,\n        \"max\": 442.0,\n        \"num_unique_values\": 8,\n        \"samples\": [\n          26.37579185520362,\n          25.7,\n          442.0\n        ],\n        \"semantic_type\": \"\",\n        \"description\": \"\"\n      }\n    },\n    {\n      \"column\": \"average blood pressure\",\n      \"properties\": {\n        \"dtype\": \"number\",\n        \"std\": 131.37318993197263,\n        \"min\": 13.831283419782999,\n        \"max\": 442.0,\n        \"num_unique_values\": 8,\n        \"samples\": [\n          94.64701357466062,\n          93.0,\n          442.0\n        ],\n        \"semantic_type\": \"\",\n        \"description\": \"\"\n      }\n    },\n    {\n      \"column\": \"total serum cholesterol\",\n      \"properties\": {\n        \"dtype\": \"number\",\n        \"std\": 124.41006930843281,\n        \"min\": 34.60805167504306,\n        \"max\": 442.0,\n        \"num_unique_values\": 8,\n        \"samples\": [\n          189.14027149321268,\n          186.0,\n          442.0\n        ],\n        \"semantic_type\": \"\",\n        \"description\": \"\"\n      }\n    },\n    {\n      \"column\": \"low-density lipoproteins\",\n      \"properties\": {\n        \"dtype\": \"number\",\n        \"std\": 133.91788698198644,\n        \"min\": 30.413080969276546,\n        \"max\": 442.0,\n        \"num_unique_values\": 8,\n        \"samples\": [\n          115.43914027149322,\n          113.0,\n          442.0\n        ],\n        \"semantic_type\": \"\",\n        \"description\": \"\"\n      }\n    },\n    {\n      \"column\": \"high-density lipoproteins\",\n      \"properties\": {\n        \"dtype\": \"number\",\n        \"std\": 141.98079637779475,\n        \"min\": 12.934202154863327,\n        \"max\": 442.0,\n        \"num_unique_values\": 8,\n        \"samples\": [\n          49.78846153846154,\n          48.0,\n          442.0\n        ],\n        \"semantic_type\": \"\",\n        \"description\": \"\"\n      }\n    },\n    {\n      \"column\": \"total cholesterol / HDL\",\n      \"properties\": {\n        \"dtype\": \"number\",\n        \"std\": 154.8517160708843,\n        \"min\": 1.2904498966082774,\n        \"max\": 442.0,\n        \"num_unique_values\": 8,\n        \"samples\": [\n          4.070248868778281,\n          4.0,\n          442.0\n        ],\n        \"semantic_type\": \"\",\n        \"description\": \"\"\n      }\n    },\n    {\n      \"column\": \"possibly log of serum triglycerides level\",\n      \"properties\": {\n        \"dtype\": \"number\",\n        \"std\": 154.84375806952278,\n        \"min\": 0.5223905610694907,\n        \"max\": 442.0,\n        \"num_unique_values\": 8,\n        \"samples\": [\n          4.641410859728507,\n          4.62005,\n          442.0\n        ],\n        \"semantic_type\": \"\",\n        \"description\": \"\"\n      }\n    },\n    {\n      \"column\": \"blood sugar level\",\n      \"properties\": {\n        \"dtype\": \"number\",\n        \"std\": 132.35687501043222,\n        \"min\": 11.496334739334172,\n        \"max\": 442.0,\n        \"num_unique_values\": 8,\n        \"samples\": [\n          91.26018099547511,\n          91.0,\n          442.0\n        ],\n        \"semantic_type\": \"\",\n        \"description\": \"\"\n      }\n    },\n    {\n      \"column\": \"target\",\n      \"properties\": {\n        \"dtype\": \"number\",\n        \"std\": 142.71872411929326,\n        \"min\": 25.0,\n        \"max\": 442.0,\n        \"num_unique_values\": 8,\n        \"samples\": [\n          152.13348416289594,\n          140.5,\n          442.0\n        ],\n        \"semantic_type\": \"\",\n        \"description\": \"\"\n      }\n    }\n  ]\n}"
            }
          },
          "metadata": {},
          "execution_count": 55
        }
      ],
      "source": [
        "range_columns(df)"
      ]
    },
    {
      "cell_type": "markdown",
      "id": "abffa2ed",
      "metadata": {
        "id": "abffa2ed"
      },
      "source": [
        "### 2.2\n",
        "\n",
        "Remove all categorical features from dataframe. Function should return the new dataframe."
      ]
    },
    {
      "cell_type": "code",
      "execution_count": null,
      "id": "63c42ca2",
      "metadata": {
        "id": "63c42ca2"
      },
      "outputs": [],
      "source": [
        "def drop_categorical(df):\n",
        "    \"\"\"\n",
        "    Function should return the dataframe with categorical features removed\n",
        "    \"\"\"\n",
        "    ### BEGIN SOLUTION\n",
        "    return df.drop('sex',axis=1)\n",
        "    ### END SOLUTION"
      ]
    },
    {
      "cell_type": "code",
      "execution_count": null,
      "id": "6a72b1e9",
      "metadata": {
        "id": "6a72b1e9"
      },
      "outputs": [],
      "source": [
        "df = drop_categorical(df)"
      ]
    },
    {
      "cell_type": "code",
      "execution_count": null,
      "id": "8df4cf1e",
      "metadata": {
        "id": "8df4cf1e",
        "colab": {
          "base_uri": "https://localhost:8080/",
          "height": 223
        },
        "outputId": "bebce32e-7c48-4c59-bbda-8657a4d7b2b0"
      },
      "outputs": [
        {
          "output_type": "execute_result",
          "data": {
            "text/plain": [
              "    age   bmi  average blood pressure  total serum cholesterol  \\\n",
              "0  59.0  32.1                   101.0                    157.0   \n",
              "1  48.0  21.6                    87.0                    183.0   \n",
              "2  72.0  30.5                    93.0                    156.0   \n",
              "3  24.0  25.3                    84.0                    198.0   \n",
              "4  50.0  23.0                   101.0                    192.0   \n",
              "\n",
              "   low-density lipoproteins  high-density lipoproteins  \\\n",
              "0                      93.2                       38.0   \n",
              "1                     103.2                       70.0   \n",
              "2                      93.6                       41.0   \n",
              "3                     131.4                       40.0   \n",
              "4                     125.4                       52.0   \n",
              "\n",
              "   total cholesterol / HDL  possibly log of serum triglycerides level  \\\n",
              "0                      4.0                                     4.8598   \n",
              "1                      3.0                                     3.8918   \n",
              "2                      4.0                                     4.6728   \n",
              "3                      5.0                                     4.8903   \n",
              "4                      4.0                                     4.2905   \n",
              "\n",
              "   blood sugar level  target  \n",
              "0               87.0   151.0  \n",
              "1               69.0    75.0  \n",
              "2               85.0   141.0  \n",
              "3               89.0   206.0  \n",
              "4               80.0   135.0  "
            ],
            "text/html": [
              "\n",
              "  <div id=\"df-8f7aad6d-e833-40d0-aab0-4508991da9e1\" class=\"colab-df-container\">\n",
              "    <div>\n",
              "<style scoped>\n",
              "    .dataframe tbody tr th:only-of-type {\n",
              "        vertical-align: middle;\n",
              "    }\n",
              "\n",
              "    .dataframe tbody tr th {\n",
              "        vertical-align: top;\n",
              "    }\n",
              "\n",
              "    .dataframe thead th {\n",
              "        text-align: right;\n",
              "    }\n",
              "</style>\n",
              "<table border=\"1\" class=\"dataframe\">\n",
              "  <thead>\n",
              "    <tr style=\"text-align: right;\">\n",
              "      <th></th>\n",
              "      <th>age</th>\n",
              "      <th>bmi</th>\n",
              "      <th>average blood pressure</th>\n",
              "      <th>total serum cholesterol</th>\n",
              "      <th>low-density lipoproteins</th>\n",
              "      <th>high-density lipoproteins</th>\n",
              "      <th>total cholesterol / HDL</th>\n",
              "      <th>possibly log of serum triglycerides level</th>\n",
              "      <th>blood sugar level</th>\n",
              "      <th>target</th>\n",
              "    </tr>\n",
              "  </thead>\n",
              "  <tbody>\n",
              "    <tr>\n",
              "      <th>0</th>\n",
              "      <td>59.0</td>\n",
              "      <td>32.1</td>\n",
              "      <td>101.0</td>\n",
              "      <td>157.0</td>\n",
              "      <td>93.2</td>\n",
              "      <td>38.0</td>\n",
              "      <td>4.0</td>\n",
              "      <td>4.8598</td>\n",
              "      <td>87.0</td>\n",
              "      <td>151.0</td>\n",
              "    </tr>\n",
              "    <tr>\n",
              "      <th>1</th>\n",
              "      <td>48.0</td>\n",
              "      <td>21.6</td>\n",
              "      <td>87.0</td>\n",
              "      <td>183.0</td>\n",
              "      <td>103.2</td>\n",
              "      <td>70.0</td>\n",
              "      <td>3.0</td>\n",
              "      <td>3.8918</td>\n",
              "      <td>69.0</td>\n",
              "      <td>75.0</td>\n",
              "    </tr>\n",
              "    <tr>\n",
              "      <th>2</th>\n",
              "      <td>72.0</td>\n",
              "      <td>30.5</td>\n",
              "      <td>93.0</td>\n",
              "      <td>156.0</td>\n",
              "      <td>93.6</td>\n",
              "      <td>41.0</td>\n",
              "      <td>4.0</td>\n",
              "      <td>4.6728</td>\n",
              "      <td>85.0</td>\n",
              "      <td>141.0</td>\n",
              "    </tr>\n",
              "    <tr>\n",
              "      <th>3</th>\n",
              "      <td>24.0</td>\n",
              "      <td>25.3</td>\n",
              "      <td>84.0</td>\n",
              "      <td>198.0</td>\n",
              "      <td>131.4</td>\n",
              "      <td>40.0</td>\n",
              "      <td>5.0</td>\n",
              "      <td>4.8903</td>\n",
              "      <td>89.0</td>\n",
              "      <td>206.0</td>\n",
              "    </tr>\n",
              "    <tr>\n",
              "      <th>4</th>\n",
              "      <td>50.0</td>\n",
              "      <td>23.0</td>\n",
              "      <td>101.0</td>\n",
              "      <td>192.0</td>\n",
              "      <td>125.4</td>\n",
              "      <td>52.0</td>\n",
              "      <td>4.0</td>\n",
              "      <td>4.2905</td>\n",
              "      <td>80.0</td>\n",
              "      <td>135.0</td>\n",
              "    </tr>\n",
              "  </tbody>\n",
              "</table>\n",
              "</div>\n",
              "    <div class=\"colab-df-buttons\">\n",
              "\n",
              "  <div class=\"colab-df-container\">\n",
              "    <button class=\"colab-df-convert\" onclick=\"convertToInteractive('df-8f7aad6d-e833-40d0-aab0-4508991da9e1')\"\n",
              "            title=\"Convert this dataframe to an interactive table.\"\n",
              "            style=\"display:none;\">\n",
              "\n",
              "  <svg xmlns=\"http://www.w3.org/2000/svg\" height=\"24px\" viewBox=\"0 -960 960 960\">\n",
              "    <path d=\"M120-120v-720h720v720H120Zm60-500h600v-160H180v160Zm220 220h160v-160H400v160Zm0 220h160v-160H400v160ZM180-400h160v-160H180v160Zm440 0h160v-160H620v160ZM180-180h160v-160H180v160Zm440 0h160v-160H620v160Z\"/>\n",
              "  </svg>\n",
              "    </button>\n",
              "\n",
              "  <style>\n",
              "    .colab-df-container {\n",
              "      display:flex;\n",
              "      gap: 12px;\n",
              "    }\n",
              "\n",
              "    .colab-df-convert {\n",
              "      background-color: #E8F0FE;\n",
              "      border: none;\n",
              "      border-radius: 50%;\n",
              "      cursor: pointer;\n",
              "      display: none;\n",
              "      fill: #1967D2;\n",
              "      height: 32px;\n",
              "      padding: 0 0 0 0;\n",
              "      width: 32px;\n",
              "    }\n",
              "\n",
              "    .colab-df-convert:hover {\n",
              "      background-color: #E2EBFA;\n",
              "      box-shadow: 0px 1px 2px rgba(60, 64, 67, 0.3), 0px 1px 3px 1px rgba(60, 64, 67, 0.15);\n",
              "      fill: #174EA6;\n",
              "    }\n",
              "\n",
              "    .colab-df-buttons div {\n",
              "      margin-bottom: 4px;\n",
              "    }\n",
              "\n",
              "    [theme=dark] .colab-df-convert {\n",
              "      background-color: #3B4455;\n",
              "      fill: #D2E3FC;\n",
              "    }\n",
              "\n",
              "    [theme=dark] .colab-df-convert:hover {\n",
              "      background-color: #434B5C;\n",
              "      box-shadow: 0px 1px 3px 1px rgba(0, 0, 0, 0.15);\n",
              "      filter: drop-shadow(0px 1px 2px rgba(0, 0, 0, 0.3));\n",
              "      fill: #FFFFFF;\n",
              "    }\n",
              "  </style>\n",
              "\n",
              "    <script>\n",
              "      const buttonEl =\n",
              "        document.querySelector('#df-8f7aad6d-e833-40d0-aab0-4508991da9e1 button.colab-df-convert');\n",
              "      buttonEl.style.display =\n",
              "        google.colab.kernel.accessAllowed ? 'block' : 'none';\n",
              "\n",
              "      async function convertToInteractive(key) {\n",
              "        const element = document.querySelector('#df-8f7aad6d-e833-40d0-aab0-4508991da9e1');\n",
              "        const dataTable =\n",
              "          await google.colab.kernel.invokeFunction('convertToInteractive',\n",
              "                                                    [key], {});\n",
              "        if (!dataTable) return;\n",
              "\n",
              "        const docLinkHtml = 'Like what you see? Visit the ' +\n",
              "          '<a target=\"_blank\" href=https://colab.research.google.com/notebooks/data_table.ipynb>data table notebook</a>'\n",
              "          + ' to learn more about interactive tables.';\n",
              "        element.innerHTML = '';\n",
              "        dataTable['output_type'] = 'display_data';\n",
              "        await google.colab.output.renderOutput(dataTable, element);\n",
              "        const docLink = document.createElement('div');\n",
              "        docLink.innerHTML = docLinkHtml;\n",
              "        element.appendChild(docLink);\n",
              "      }\n",
              "    </script>\n",
              "  </div>\n",
              "\n",
              "\n",
              "<div id=\"df-c3e80f9c-e8b8-4889-921a-9d77183d1ac5\">\n",
              "  <button class=\"colab-df-quickchart\" onclick=\"quickchart('df-c3e80f9c-e8b8-4889-921a-9d77183d1ac5')\"\n",
              "            title=\"Suggest charts\"\n",
              "            style=\"display:none;\">\n",
              "\n",
              "<svg xmlns=\"http://www.w3.org/2000/svg\" height=\"24px\"viewBox=\"0 0 24 24\"\n",
              "     width=\"24px\">\n",
              "    <g>\n",
              "        <path d=\"M19 3H5c-1.1 0-2 .9-2 2v14c0 1.1.9 2 2 2h14c1.1 0 2-.9 2-2V5c0-1.1-.9-2-2-2zM9 17H7v-7h2v7zm4 0h-2V7h2v10zm4 0h-2v-4h2v4z\"/>\n",
              "    </g>\n",
              "</svg>\n",
              "  </button>\n",
              "\n",
              "<style>\n",
              "  .colab-df-quickchart {\n",
              "      --bg-color: #E8F0FE;\n",
              "      --fill-color: #1967D2;\n",
              "      --hover-bg-color: #E2EBFA;\n",
              "      --hover-fill-color: #174EA6;\n",
              "      --disabled-fill-color: #AAA;\n",
              "      --disabled-bg-color: #DDD;\n",
              "  }\n",
              "\n",
              "  [theme=dark] .colab-df-quickchart {\n",
              "      --bg-color: #3B4455;\n",
              "      --fill-color: #D2E3FC;\n",
              "      --hover-bg-color: #434B5C;\n",
              "      --hover-fill-color: #FFFFFF;\n",
              "      --disabled-bg-color: #3B4455;\n",
              "      --disabled-fill-color: #666;\n",
              "  }\n",
              "\n",
              "  .colab-df-quickchart {\n",
              "    background-color: var(--bg-color);\n",
              "    border: none;\n",
              "    border-radius: 50%;\n",
              "    cursor: pointer;\n",
              "    display: none;\n",
              "    fill: var(--fill-color);\n",
              "    height: 32px;\n",
              "    padding: 0;\n",
              "    width: 32px;\n",
              "  }\n",
              "\n",
              "  .colab-df-quickchart:hover {\n",
              "    background-color: var(--hover-bg-color);\n",
              "    box-shadow: 0 1px 2px rgba(60, 64, 67, 0.3), 0 1px 3px 1px rgba(60, 64, 67, 0.15);\n",
              "    fill: var(--button-hover-fill-color);\n",
              "  }\n",
              "\n",
              "  .colab-df-quickchart-complete:disabled,\n",
              "  .colab-df-quickchart-complete:disabled:hover {\n",
              "    background-color: var(--disabled-bg-color);\n",
              "    fill: var(--disabled-fill-color);\n",
              "    box-shadow: none;\n",
              "  }\n",
              "\n",
              "  .colab-df-spinner {\n",
              "    border: 2px solid var(--fill-color);\n",
              "    border-color: transparent;\n",
              "    border-bottom-color: var(--fill-color);\n",
              "    animation:\n",
              "      spin 1s steps(1) infinite;\n",
              "  }\n",
              "\n",
              "  @keyframes spin {\n",
              "    0% {\n",
              "      border-color: transparent;\n",
              "      border-bottom-color: var(--fill-color);\n",
              "      border-left-color: var(--fill-color);\n",
              "    }\n",
              "    20% {\n",
              "      border-color: transparent;\n",
              "      border-left-color: var(--fill-color);\n",
              "      border-top-color: var(--fill-color);\n",
              "    }\n",
              "    30% {\n",
              "      border-color: transparent;\n",
              "      border-left-color: var(--fill-color);\n",
              "      border-top-color: var(--fill-color);\n",
              "      border-right-color: var(--fill-color);\n",
              "    }\n",
              "    40% {\n",
              "      border-color: transparent;\n",
              "      border-right-color: var(--fill-color);\n",
              "      border-top-color: var(--fill-color);\n",
              "    }\n",
              "    60% {\n",
              "      border-color: transparent;\n",
              "      border-right-color: var(--fill-color);\n",
              "    }\n",
              "    80% {\n",
              "      border-color: transparent;\n",
              "      border-right-color: var(--fill-color);\n",
              "      border-bottom-color: var(--fill-color);\n",
              "    }\n",
              "    90% {\n",
              "      border-color: transparent;\n",
              "      border-bottom-color: var(--fill-color);\n",
              "    }\n",
              "  }\n",
              "</style>\n",
              "\n",
              "  <script>\n",
              "    async function quickchart(key) {\n",
              "      const quickchartButtonEl =\n",
              "        document.querySelector('#' + key + ' button');\n",
              "      quickchartButtonEl.disabled = true;  // To prevent multiple clicks.\n",
              "      quickchartButtonEl.classList.add('colab-df-spinner');\n",
              "      try {\n",
              "        const charts = await google.colab.kernel.invokeFunction(\n",
              "            'suggestCharts', [key], {});\n",
              "      } catch (error) {\n",
              "        console.error('Error during call to suggestCharts:', error);\n",
              "      }\n",
              "      quickchartButtonEl.classList.remove('colab-df-spinner');\n",
              "      quickchartButtonEl.classList.add('colab-df-quickchart-complete');\n",
              "    }\n",
              "    (() => {\n",
              "      let quickchartButtonEl =\n",
              "        document.querySelector('#df-c3e80f9c-e8b8-4889-921a-9d77183d1ac5 button');\n",
              "      quickchartButtonEl.style.display =\n",
              "        google.colab.kernel.accessAllowed ? 'block' : 'none';\n",
              "    })();\n",
              "  </script>\n",
              "</div>\n",
              "    </div>\n",
              "  </div>\n"
            ],
            "application/vnd.google.colaboratory.intrinsic+json": {
              "type": "dataframe",
              "variable_name": "df",
              "summary": "{\n  \"name\": \"df\",\n  \"rows\": 442,\n  \"fields\": [\n    {\n      \"column\": \"age\",\n      \"properties\": {\n        \"dtype\": \"number\",\n        \"std\": 13.109027822041092,\n        \"min\": 19.0,\n        \"max\": 79.0,\n        \"num_unique_values\": 58,\n        \"samples\": [\n          59.0,\n          23.0,\n          54.0\n        ],\n        \"semantic_type\": \"\",\n        \"description\": \"\"\n      }\n    },\n    {\n      \"column\": \"bmi\",\n      \"properties\": {\n        \"dtype\": \"number\",\n        \"std\": 4.4181215606157735,\n        \"min\": 18.0,\n        \"max\": 42.2,\n        \"num_unique_values\": 163,\n        \"samples\": [\n          27.2,\n          21.3,\n          33.3\n        ],\n        \"semantic_type\": \"\",\n        \"description\": \"\"\n      }\n    },\n    {\n      \"column\": \"average blood pressure\",\n      \"properties\": {\n        \"dtype\": \"number\",\n        \"std\": 13.831283419782999,\n        \"min\": 62.0,\n        \"max\": 133.0,\n        \"num_unique_values\": 100,\n        \"samples\": [\n          104.33,\n          102.0,\n          108.0\n        ],\n        \"semantic_type\": \"\",\n        \"description\": \"\"\n      }\n    },\n    {\n      \"column\": \"total serum cholesterol\",\n      \"properties\": {\n        \"dtype\": \"number\",\n        \"std\": 34.60805167504306,\n        \"min\": 97.0,\n        \"max\": 301.0,\n        \"num_unique_values\": 141,\n        \"samples\": [\n          219.0,\n          250.0,\n          253.0\n        ],\n        \"semantic_type\": \"\",\n        \"description\": \"\"\n      }\n    },\n    {\n      \"column\": \"low-density lipoproteins\",\n      \"properties\": {\n        \"dtype\": \"number\",\n        \"std\": 30.413080969276546,\n        \"min\": 41.6,\n        \"max\": 242.4,\n        \"num_unique_values\": 302,\n        \"samples\": [\n          162.8,\n          160.2,\n          156.4\n        ],\n        \"semantic_type\": \"\",\n        \"description\": \"\"\n      }\n    },\n    {\n      \"column\": \"high-density lipoproteins\",\n      \"properties\": {\n        \"dtype\": \"number\",\n        \"std\": 12.934202154863327,\n        \"min\": 22.0,\n        \"max\": 99.0,\n        \"num_unique_values\": 63,\n        \"samples\": [\n          75.0,\n          93.0,\n          38.0\n        ],\n        \"semantic_type\": \"\",\n        \"description\": \"\"\n      }\n    },\n    {\n      \"column\": \"total cholesterol / HDL\",\n      \"properties\": {\n        \"dtype\": \"number\",\n        \"std\": 1.2904498966082774,\n        \"min\": 2.0,\n        \"max\": 9.09,\n        \"num_unique_values\": 66,\n        \"samples\": [\n          6.42,\n          3.4,\n          4.0\n        ],\n        \"semantic_type\": \"\",\n        \"description\": \"\"\n      }\n    },\n    {\n      \"column\": \"possibly log of serum triglycerides level\",\n      \"properties\": {\n        \"dtype\": \"number\",\n        \"std\": 0.5223905610694907,\n        \"min\": 3.2581,\n        \"max\": 6.107,\n        \"num_unique_values\": 184,\n        \"samples\": [\n          3.8501,\n          4.4067,\n          5.0039\n        ],\n        \"semantic_type\": \"\",\n        \"description\": \"\"\n      }\n    },\n    {\n      \"column\": \"blood sugar level\",\n      \"properties\": {\n        \"dtype\": \"number\",\n        \"std\": 11.496334739334172,\n        \"min\": 58.0,\n        \"max\": 124.0,\n        \"num_unique_values\": 56,\n        \"samples\": [\n          87.0,\n          68.0,\n          74.0\n        ],\n        \"semantic_type\": \"\",\n        \"description\": \"\"\n      }\n    },\n    {\n      \"column\": \"target\",\n      \"properties\": {\n        \"dtype\": \"number\",\n        \"std\": 77.09300453299109,\n        \"min\": 25.0,\n        \"max\": 346.0,\n        \"num_unique_values\": 214,\n        \"samples\": [\n          310.0,\n          140.0,\n          51.0\n        ],\n        \"semantic_type\": \"\",\n        \"description\": \"\"\n      }\n    }\n  ]\n}"
            }
          },
          "metadata": {},
          "execution_count": 58
        }
      ],
      "source": [
        "df.head()"
      ]
    },
    {
      "cell_type": "markdown",
      "id": "1e759935",
      "metadata": {
        "id": "1e759935"
      },
      "source": [
        "## Question 3"
      ]
    },
    {
      "cell_type": "markdown",
      "id": "a5851f68",
      "metadata": {
        "id": "a5851f68"
      },
      "source": [
        "Using `train_test_split`, split `X` and `y` into training and test sets. With 80% training and 10% test.\n",
        "\n",
        "USE `random_state=0`"
      ]
    },
    {
      "cell_type": "code",
      "execution_count": null,
      "id": "8687facc",
      "metadata": {
        "id": "8687facc"
      },
      "outputs": [],
      "source": [
        "def split(df):\n",
        "    \"\"\"\n",
        "    Function should return X_train, X_test, y_train, y_test\n",
        "    \"\"\"\n",
        "    ### BEGIN SOLUTION\n",
        "    X=df.drop('target',axis=1)\n",
        "    y=df['target']\n",
        "\n",
        "    X_train, X_test, y_train, y_test=train_test_split(X,y,test_size=0.1,train_size=0.8,random_state=0)\n",
        "    return X_train, X_test, y_train, y_test\n",
        "    ### END SOLUTION"
      ]
    },
    {
      "cell_type": "code",
      "execution_count": null,
      "id": "3cd3edeb",
      "metadata": {
        "id": "3cd3edeb"
      },
      "outputs": [],
      "source": [
        "X_train, X_test, y_train, y_test = split(df)"
      ]
    },
    {
      "cell_type": "markdown",
      "id": "d69d9475",
      "metadata": {
        "id": "d69d9475"
      },
      "source": [
        "## Question 5\n",
        "\n",
        "Use scikit-learn standard scaler to standardize training data into 0 mean and 1 std.\n",
        "\n",
        "Function must return the normalized data and the standard scaler object"
      ]
    },
    {
      "cell_type": "code",
      "execution_count": null,
      "id": "9ffa08fc",
      "metadata": {
        "id": "9ffa08fc"
      },
      "outputs": [],
      "source": [
        "def standardize(data):\n",
        "    \"\"\"Standardize a data to 0 mean and 1 std\n",
        "    Return standardized data AND the scaler object\n",
        "    \"\"\"\n",
        "    ### BEGIN SOLUTION\n",
        "    from sklearn.preprocessing import StandardScaler\n",
        "    scaler=StandardScaler()\n",
        "    new_data=scaler.fit_transform(data)\n",
        "\n",
        "    return new_data, scaler\n",
        "    ### END SOLUTION"
      ]
    },
    {
      "cell_type": "code",
      "execution_count": null,
      "id": "fafba4ed",
      "metadata": {
        "id": "fafba4ed"
      },
      "outputs": [],
      "source": [
        "scaled_X_train, x_scaler = standardize(X_train)"
      ]
    },
    {
      "cell_type": "markdown",
      "id": "e04ea7cc",
      "metadata": {
        "id": "e04ea7cc"
      },
      "source": [
        "- Apply the same transformation to the test data"
      ]
    },
    {
      "cell_type": "code",
      "execution_count": null,
      "id": "73e7e8b8",
      "metadata": {
        "id": "73e7e8b8"
      },
      "outputs": [],
      "source": [
        "scaled_X_test,x_scaler = standardize(X_test)\n",
        "scaled_y_test,x_scaler = standardize(y_test.values.reshape(-1,1))"
      ]
    },
    {
      "cell_type": "markdown",
      "id": "9e92f2a8",
      "metadata": {
        "id": "9e92f2a8"
      },
      "source": [
        "## Question 6\n",
        "\n",
        "Create a scikit-learn regression model and train it on diabetes data.\n",
        "Your function should return the trained model"
      ]
    },
    {
      "cell_type": "code",
      "execution_count": null,
      "id": "bc59d9ff",
      "metadata": {
        "id": "bc59d9ff"
      },
      "outputs": [],
      "source": [
        "def regression_sc(X, y):\n",
        "    \"\"\"Trains a linear regression model on X, y data \"\"\"\n",
        "    ### BEGIN SOLUTION\n",
        "    from sklearn.linear_model import LinearRegression\n",
        "    linear_regression=LinearRegression()\n",
        "    linear_regression.fit(X,y)\n",
        "    return linear_regression\n",
        "    ### END SOLUTION"
      ]
    },
    {
      "cell_type": "code",
      "execution_count": null,
      "id": "b6355c99",
      "metadata": {
        "id": "b6355c99",
        "colab": {
          "base_uri": "https://localhost:8080/"
        },
        "outputId": "55d49b78-0430-429a-8bb7-0fd4542e3c3f"
      },
      "outputs": [
        {
          "output_type": "stream",
          "name": "stdout",
          "text": [
            "linear model coeff (w): [ -2.77573871  27.98180493  14.18788765 -33.42806069  20.22654595\n",
            "   7.476471     5.97989434  33.15764325   3.93092881]\n",
            "linear model intercept (b): 150.246\n"
          ]
        }
      ],
      "source": [
        "linreg = regression_sc(scaled_X_train, y_train)\n",
        "y_pred = linreg.predict(scaled_X_train)\n",
        "\n",
        "\n",
        "print('linear model coeff (w): {}'.format(linreg.coef_))\n",
        "print('linear model intercept (b): {:.3f}'.format(linreg.intercept_))"
      ]
    },
    {
      "cell_type": "markdown",
      "id": "73ab94e5",
      "metadata": {
        "id": "73ab94e5"
      },
      "source": [
        "- Print the mse, and R2 score for the train data"
      ]
    },
    {
      "cell_type": "code",
      "execution_count": null,
      "id": "a1422b19",
      "metadata": {
        "id": "a1422b19",
        "colab": {
          "base_uri": "https://localhost:8080/"
        },
        "outputId": "97a66899-40aa-4be1-e21b-ce3898088f18"
      },
      "outputs": [
        {
          "output_type": "stream",
          "name": "stdout",
          "text": [
            "2906.4228454619965 0.5091863135415371\n"
          ]
        }
      ],
      "source": [
        "from sklearn.metrics import mean_squared_error,r2_score\n",
        "mean_square_error_train=mean_squared_error(y_train,y_pred)\n",
        "r2_score_train=r2_score(y_train,y_pred)\n",
        "print(mean_square_error_train,r2_score_train)\n"
      ]
    },
    {
      "cell_type": "markdown",
      "id": "39cc82c0",
      "metadata": {
        "id": "39cc82c0"
      },
      "source": [
        "- Print the mse, and R2 score for the test data"
      ]
    },
    {
      "cell_type": "code",
      "execution_count": null,
      "id": "aa9912de",
      "metadata": {
        "id": "aa9912de",
        "colab": {
          "base_uri": "https://localhost:8080/"
        },
        "outputId": "403c5fc4-2349-48bc-f7bf-e9bf03daa01a"
      },
      "outputs": [
        {
          "output_type": "stream",
          "name": "stdout",
          "text": [
            "25421.16540001949 -25420.165400019494\n"
          ]
        }
      ],
      "source": [
        "y_pred_test=linreg.predict(scaled_X_test)\n",
        "mse_test=mean_squared_error(scaled_y_test,y_pred_test)\n",
        "r2_test=r2_score(scaled_y_test,y_pred_test)\n",
        "print(mse_test,r2_test)\n",
        "\n"
      ]
    },
    {
      "cell_type": "markdown",
      "id": "ee67b8fb",
      "metadata": {
        "id": "ee67b8fb"
      },
      "source": [
        "- Comment on the results in terms of data fit\n",
        "there is overfitting of the data as the mse of the test data is very large and the r2_score isnot good"
      ]
    },
    {
      "cell_type": "markdown",
      "id": "9681eef9",
      "metadata": {
        "id": "9681eef9"
      },
      "source": []
    }
  ],
  "metadata": {
    "colab": {
      "provenance": []
    },
    "kernelspec": {
      "display_name": "Python 3 (ipykernel)",
      "language": "python",
      "name": "python3"
    },
    "language_info": {
      "codemirror_mode": {
        "name": "ipython",
        "version": 3
      },
      "file_extension": ".py",
      "mimetype": "text/x-python",
      "name": "python",
      "nbconvert_exporter": "python",
      "pygments_lexer": "ipython3",
      "version": "3.11.0"
    }
  },
  "nbformat": 4,
  "nbformat_minor": 5
}